{
 "cells": [
  {
   "cell_type": "markdown",
   "metadata": {},
   "source": [
    "# 서울시 열린데이터 년도별 따릉이 대여건수 합계 계산"
   ]
  },
  {
   "cell_type": "markdown",
   "metadata": {},
   "source": [
    "## 스파크 기본설정"
   ]
  },
  {
   "cell_type": "code",
   "execution_count": 2,
   "metadata": {},
   "outputs": [],
   "source": [
    "import os\n",
    "import sys\n",
    "#home=os.path.expanduser(\"~\") # HOME이 설정되어 있지 않으면 expanduser('~')를 사용한다.\n",
    "#osn.environ[\"PYSPARK_PYTHON\"] = \"/usr/bin/python\"\n",
    "os.environ[\"SPARK_HOME\"]=os.path.join(os.path.expanduser(\"~\"),r\"C:\\Users\\user\\spark-2.0.0-bin-hadoop2.7\\spark-2.0.0-bin-hadoop2.7\")\n",
    "os.environ[\"PYLIB\"]=os.path.join(os.environ[\"SPARK_HOME\"],'python','lib')\n",
    "sys.path.insert(0,os.path.join(os.environ[\"PYLIB\"],'py4j-0.10.1-src.zip'))\n",
    "sys.path.insert(0,os.path.join(os.environ[\"PYLIB\"],'pyspark.zip'))"
   ]
  },
  {
   "cell_type": "code",
   "execution_count": 1,
   "metadata": {},
   "outputs": [
    {
     "ename": "SyntaxError",
     "evalue": "unexpected character after line continuation character (<ipython-input-1-2691cd54af75>, line 7)",
     "output_type": "error",
     "traceback": [
      "\u001b[1;36m  File \u001b[1;32m\"<ipython-input-1-2691cd54af75>\"\u001b[1;36m, line \u001b[1;32m7\u001b[0m\n\u001b[1;33m    spark = pyspark.sql.SparkSession.builder    .master(\"local\")    .appName(\"myApp\")    .config(conf=myConf)    .appName('csv file reader') \\ # for read csv\u001b[0m\n\u001b[1;37m                                                                                                                                                              ^\u001b[0m\n\u001b[1;31mSyntaxError\u001b[0m\u001b[1;31m:\u001b[0m unexpected character after line continuation character\n"
     ]
    }
   ],
   "source": [
    "import pyspark\n",
    "from os.path import expanduser, join\n",
    "from pyspark.sql import SparkSession\n",
    "from pyspark.sql import Row\n",
    "\n",
    "myConf=pyspark.SparkConf()\n",
    "spark = pyspark.sql.SparkSession.builder\\\n",
    "    .master(\"local\")\\\n",
    "    .appName(\"myApp\")\\\n",
    "    .config(conf=myConf)\\\n",
    "    .appName('csv file reader') \\ # for read csv \n",
    "    .getOrCreate()"
   ]
  },
  {
   "cell_type": "markdown",
   "metadata": {},
   "source": [
    "## csv파일 읽어와서 dataframe에 schema 만들어서 적용"
   ]
  },
  {
   "cell_type": "code",
   "execution_count": 89,
   "metadata": {
    "scrolled": true
   },
   "outputs": [
    {
     "name": "stdout",
     "output_type": "stream",
     "text": [
      "+----------+----------+\n",
      "| RENT_DATE|RENT_COUNT|\n",
      "+----------+----------+\n",
      "|2018-01-01|      4950|\n",
      "|2018-01-02|      7136|\n",
      "|2018-01-03|      7156|\n",
      "|2018-01-04|      7102|\n",
      "|2018-01-05|      7705|\n",
      "|2018-01-06|      5681|\n",
      "|2018-01-07|      5220|\n",
      "|2018-01-08|      6309|\n",
      "|2018-01-09|      5988|\n",
      "|2018-01-10|      4476|\n",
      "|2018-01-11|      4337|\n",
      "|2018-01-12|      4401|\n",
      "|2018-01-13|      3756|\n",
      "|2018-01-14|      4675|\n",
      "|2018-01-15|      6993|\n",
      "|2018-01-16|      7421|\n",
      "|2018-01-17|      6990|\n",
      "|2018-01-18|      7054|\n",
      "|2018-01-19|      8329|\n",
      "|2018-01-20|      6148|\n",
      "+----------+----------+\n",
      "only showing top 20 rows\n",
      "\n"
     ]
    }
   ],
   "source": [
    "from pyspark.sql.types import StructField, StructType, StringType, LongType\n",
    "\n",
    "myBikeSchema = StructType([\n",
    "    StructField(\"RENT_DATE\", StringType(), True),\n",
    "    StructField(\"RENT_COUNT\", LongType(), True)\n",
    "])\n",
    "\n",
    "df = spark.read.format('csv')\\\n",
    "    .option(\"header\",'True')\\\n",
    "    .option(\"encoding\", \"utf-8\")\\\n",
    "    .schema(myBikeSchema)\\\n",
    "    .load('data/seoul_bike_rent_count_utf-8.csv')\n",
    "df.show()\n"
   ]
  },
  {
   "cell_type": "markdown",
   "metadata": {},
   "source": [
    "## udf함수를 이용하여 Year 컬럼 생성"
   ]
  },
  {
   "cell_type": "code",
   "execution_count": 90,
   "metadata": {},
   "outputs": [
    {
     "name": "stdout",
     "output_type": "stream",
     "text": [
      "root\n",
      " |-- RENT_DATE: string (nullable = true)\n",
      " |-- RENT_COUNT: long (nullable = true)\n",
      " |-- Year: string (nullable = true)\n",
      "\n",
      "+----------+----------+----+\n",
      "| RENT_DATE|RENT_COUNT|Year|\n",
      "+----------+----------+----+\n",
      "|2018-01-01|      4950|2018|\n",
      "|2018-01-02|      7136|2018|\n",
      "|2018-01-03|      7156|2018|\n",
      "|2018-01-04|      7102|2018|\n",
      "|2018-01-05|      7705|2018|\n",
      "|2018-01-06|      5681|2018|\n",
      "|2018-01-07|      5220|2018|\n",
      "|2018-01-08|      6309|2018|\n",
      "|2018-01-09|      5988|2018|\n",
      "|2018-01-10|      4476|2018|\n",
      "|2018-01-11|      4337|2018|\n",
      "|2018-01-12|      4401|2018|\n",
      "|2018-01-13|      3756|2018|\n",
      "|2018-01-14|      4675|2018|\n",
      "|2018-01-15|      6993|2018|\n",
      "|2018-01-16|      7421|2018|\n",
      "|2018-01-17|      6990|2018|\n",
      "|2018-01-18|      7054|2018|\n",
      "|2018-01-19|      8329|2018|\n",
      "|2018-01-20|      6148|2018|\n",
      "+----------+----------+----+\n",
      "only showing top 20 rows\n",
      "\n"
     ]
    }
   ],
   "source": [
    "from pyspark.sql.functions import udf\n",
    "from pyspark.sql.types import StringType\n",
    "\n",
    "year_udf = udf(lambda x: x[:4],StringType())\n",
    "df = df.withColumn(\"Year\",year_udf(df.RENT_DATE))\n",
    "df.printSchema()\n",
    "df.show()"
   ]
  },
  {
   "cell_type": "markdown",
   "metadata": {},
   "source": [
    "## agg() 함수를 이용하여 년도별 대여건수 합계"
   ]
  },
  {
   "cell_type": "code",
   "execution_count": 91,
   "metadata": {},
   "outputs": [
    {
     "name": "stdout",
     "output_type": "stream",
     "text": [
      "+----+---------------+\n",
      "|Year|sum(Rent_Count)|\n",
      "+----+---------------+\n",
      "|2019|        1871935|\n",
      "|2018|       10124874|\n",
      "+----+---------------+\n",
      "\n"
     ]
    }
   ],
   "source": [
    "df.groupBy('Year').agg({\"Rent_Count\":\"sum\"}).show()"
   ]
  }
 ],
 "metadata": {
  "kernelspec": {
   "display_name": "Python 2",
   "language": "python",
   "name": "python2"
  },
  "language_info": {
   "codemirror_mode": {
    "name": "ipython",
    "version": 2
   },
   "file_extension": ".py",
   "mimetype": "text/x-python",
   "name": "python",
   "nbconvert_exporter": "python",
   "pygments_lexer": "ipython2",
   "version": "2.7.16"
  }
 },
 "nbformat": 4,
 "nbformat_minor": 2
}
