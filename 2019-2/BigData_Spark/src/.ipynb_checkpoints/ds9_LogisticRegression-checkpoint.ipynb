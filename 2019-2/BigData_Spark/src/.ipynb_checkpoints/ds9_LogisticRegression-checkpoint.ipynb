{
 "cells": [
  {
   "cell_type": "markdown",
   "metadata": {},
   "source": [
    "# Logistic Regression"
   ]
  },
  {
   "cell_type": "code",
   "execution_count": 4,
   "metadata": {},
   "outputs": [],
   "source": [
    "import os\n",
    "import sys\n",
    "\n",
    "#home=os.path.expanduser(\"~\") # HOME이 설정되어 있지 않으면 expanduser('~')를 사용한다.\n",
    "#osn.environ[\"PYSPARK_PYTHON\"] = \"/usr/bin/python\"\n",
    "os.environ[\"SPARK_HOME\"]=os.path.join(os.path.expanduser(\"~\"),r\"C:\\Users\\user\\spark-2.0.0-bin-hadoop2.7\\spark-2.0.0-bin-hadoop2.7\")\n",
    "os.environ[\"PYLIB\"]=os.path.join(os.environ[\"SPARK_HOME\"],'python','lib')\n",
    "sys.path.insert(0,os.path.join(os.environ[\"PYLIB\"],'py4j-0.10.1-src.zip'))\n",
    "sys.path.insert(0,os.path.join(os.environ[\"PYLIB\"],'pyspark.zip'))"
   ]
  },
  {
   "cell_type": "code",
   "execution_count": 5,
   "metadata": {},
   "outputs": [],
   "source": [
    "import pyspark\n",
    "spark = pyspark.sql.SparkSession.builder\\\n",
    "    .master(\"local\")\\\n",
    "    .appName(\"myApp\")\\\n",
    "    .config(\"spark.sql.warehouse.dir\", r\"C:\\Users\\user\\MyStudySpace\\2019-2\\BigData_Spark\\src\")\\\n",
    "    .getOrCreate()"
   ]
  },
  {
   "cell_type": "markdown",
   "metadata": {},
   "source": [
    "## 로그\n",
    "0을 포함해서 음수 x에 대해 log(x)는 무한값 또는 계산할 수 없다"
   ]
  },
  {
   "cell_type": "code",
   "execution_count": 6,
   "metadata": {},
   "outputs": [
    {
     "name": "stdout",
     "output_type": "stream",
     "text": [
      "log of x= 0: 0.0\n",
      "log 0:  -inf\n",
      "log negative:  nan\n"
     ]
    },
    {
     "name": "stderr",
     "output_type": "stream",
     "text": [
      "C:\\Users\\user\\Anaconda2\\lib\\site-packages\\ipykernel_launcher.py:3: RuntimeWarning: divide by zero encountered in log\n",
      "  This is separate from the ipykernel package so we can avoid doing imports until\n",
      "C:\\Users\\user\\Anaconda2\\lib\\site-packages\\ipykernel_launcher.py:4: RuntimeWarning: invalid value encountered in log\n",
      "  after removing the cwd from sys.path.\n"
     ]
    }
   ],
   "source": [
    "import numpy as np\n",
    "print \"log of x= 0:\", np.log(1)\n",
    "print \"log 0: \",np.log(0)\n",
    "print \"log negative: \",np.log(-1)"
   ]
  },
  {
   "cell_type": "markdown",
   "metadata": {},
   "source": [
    "## Logit\n",
    "로짓함수는 승수에 e밑으로 자연로그를 취해서 log odds구한다\n",
    "sigmoid는 x=0일 경우, 0.5 값이 된다."
   ]
  },
  {
   "cell_type": "code",
   "execution_count": 7,
   "metadata": {},
   "outputs": [],
   "source": [
    "np.exp?"
   ]
  },
  {
   "cell_type": "code",
   "execution_count": 9,
   "metadata": {},
   "outputs": [
    {
     "name": "stdout",
     "output_type": "stream",
     "text": [
      "logit -100: 0.000\n",
      "sigmoid of x=-1: 0.2689414213699951\n",
      "logit    0: 0.500\n",
      "sigmoid of x= 1: 0.7310585786300049\n",
      "logit  100: 1.000\n",
      "0.5\n"
     ]
    }
   ],
   "source": [
    "sigmoid=lambda(x):1.0/(1+np.exp(-x))\n",
    "print \"logit -100: {0:.3f}\".format(sigmoid(-100))\n",
    "print \"sigmoid of x=-1:\", sigmoid(-1)\n",
    "print \"logit    0: {0:.3f}\".format(sigmoid(0))\n",
    "print \"sigmoid of x= 1:\", sigmoid(1)\n",
    "print \"logit  100: {0:.3f}\".format(sigmoid(100))\n",
    "print sigmoid(0)"
   ]
  },
  {
   "attachments": {
    "image.png": {
     "image/png": "[encoded data removed]"
    }
   },
   "cell_type": "markdown",
   "metadata": {},
   "source": [
    "## 승수\n",
    "![image.png](attachment:image.png)"
   ]
  },
  {
   "cell_type": "code",
   "execution_count": 8,
   "metadata": {},
   "outputs": [
    {
     "name": "stdout",
     "output_type": "stream",
     "text": [
      "odds 0: 0.000\n",
      "odds 1/6: 0.200\n",
      "odds 0.5: 1.000\n"
     ]
    }
   ],
   "source": [
    "odds=lambda(x):x/(1-x)\n",
    "print \"odds 0: {0:.3f}\".format(odds(0))\n",
    "print \"odds 1/6: {0:.3f}\".format(odds(1/6.))\n",
    "print \"odds 0.5: {0:.3f}\".format(odds(0.5))"
   ]
  },
  {
   "cell_type": "markdown",
   "metadata": {},
   "source": [
    "sigmoid함수는 0일 때 0.5이고, 이을 기준으로 'S'자 곡선을 보여줌"
   ]
  },
  {
   "cell_type": "code",
   "execution_count": 10,
   "metadata": {},
   "outputs": [
    {
     "name": "stdout",
     "output_type": "stream",
     "text": [
      "[-5.   -4.95 -4.9  -4.85 -4.8 ]\n"
     ]
    }
   ],
   "source": [
    "x=np.arange(-5,5,0.05)\n",
    "#x=np.array([0.50,0.75,1.00,1.25,1.50,1.75,1.75,2.00,2.25,2.50,2.75,\n",
    "#            3.00,3.25,3.50,4.00,4.25,4.50,4.75,5.00,5.50])\n",
    "print x[:5]"
   ]
  },
  {
   "cell_type": "code",
   "execution_count": 7,
   "metadata": {},
   "outputs": [
    {
     "name": "stderr",
     "output_type": "stream",
     "text": [
      "C:\\Users\\user\\Anaconda2\\lib\\site-packages\\ipykernel_launcher.py:15: RuntimeWarning: invalid value encountered in log\n",
      "  from ipykernel import kernelapp as app\n"
     ]
    },
    {
     "data": {
      "image/png": "[encoded data removed]",
      "text/plain": [
       "<Figure size 432x288 with 4 Axes>"
      ]
     },
     "metadata": {
      "needs_background": "light"
     },
     "output_type": "display_data"
    }
   ],
   "source": [
    "%matplotlib inline\n",
    "import matplotlib.pyplot as plt\n",
    "import numpy as np\n",
    "\n",
    "fig=plt.figure()\n",
    "\n",
    "ax221=fig.add_subplot(221)\n",
    "ax221.set_title('exponental')\n",
    "exp=np.exp(x)\n",
    "ax221.plot(x,exp,'-')\n",
    "ax221.set_ylabel('y')\n",
    "\n",
    "ax222=fig.add_subplot(222)\n",
    "ax222.set_title('log')\n",
    "log=np.log(x)\n",
    "ax222.plot(x,log,'-')\n",
    "ax222.set_ylabel('y')\n",
    "\n",
    "ax223=fig.add_subplot(223)\n",
    "ax223.set_title('sigmoid')\n",
    "sigmoid=lambda(x):1.0/(1+np.exp(-x))\n",
    "sig=sigmoid(x)\n",
    "ax223.plot(x,sig,'-')\n",
    "ax223.set_ylabel('probability')\n",
    "\n",
    "\n",
    "ax224=fig.add_subplot(224)\n",
    "ax224.set_title('odds')\n",
    "x=np.arange(-2,1,0.05)  # when x=1, division by zero\n",
    "odds=lambda(x):x/(1-x)\n",
    "odd=odds(x)\n",
    "ax224.plot(x,odd,'-')\n",
    "ax224.set_ylabel('odds')\n",
    "\n",
    "plt.show()"
   ]
  },
  {
   "attachments": {
    "image.png": {
     "image/png": "[encoded data removed]"
    }
   },
   "cell_type": "markdown",
   "metadata": {},
   "source": [
    "# 로지스틱 회귀\n",
    "## 확률\n",
    "![image.png](attachment:image.png)"
   ]
  },
  {
   "cell_type": "markdown",
   "metadata": {},
   "source": [
    "### 데이터 읽기"
   ]
  },
  {
   "cell_type": "code",
   "execution_count": 15,
   "metadata": {},
   "outputs": [],
   "source": [
    "x=np.array([1,2,3,4])\n",
    "y=np.array([6,5,7,10])\n",
    "x=np.array([0.50,0.75,1.00,1.25,1.50,1.75,1.75,2.00,2.25,2.50,2.75,3.00,3.25,3.50,4.00,4.25,4.50,4.75,5.00,5.50])\n",
    "y=np.array([0,0,0,0,0,0,1,0,1,0,1,0,1,0,1,1,1,1,1,1])\n",
    "#y=np.array([0,0,0,0,0,0,100,0,100,0,100,0,100,0,100,100,100,100,100,100])\n",
    "#x=np.array([23663, 20659, 32277, 21595, 27227, 25023, 26504, 28741, 21735,23366, 20871, 28370, 21105, 22706, 19527, 28321])\n",
    "#y=np.array([    0,     0,     1,     0,     1,     0,     1,     1,     0,0,     0,     1,     0,     1,     1,     1])\n",
    "\n",
    "#x=np.array([ 0.24,  0.25,  0.28,  0.30,  0.33,  0.35,  0.36,  0.36,  0.36,  0.36,  0.40,  0.40,\n",
    "#   0.41,  0.42,  0.43,  0.47,  0.51,  0.53,  0.56,  0.57,  0.59,  0.64,  0.66,  0.82,\n",
    "#   0.85,  0.94,  1.04,  1.04])\n",
    "#y=np.array([ 0.00,  0.00,  1.00,  1.00,  1.00,  1.00,  0.00,  1.00,  0.00,  1.00,  0.00,  1.00,\n",
    "#  0.00,  1.00,  0.00,  1.00,  1.00,  1.00,  0.00,  0.00,  1.00,  1.00,  1.00,  1.00,\n",
    "#  1.00,  1.00,  1.00,  1.00])"
   ]
  },
  {
   "attachments": {
    "image.png": {
     "image/png": "[encoded data removed]"
    }
   },
   "cell_type": "markdown",
   "metadata": {},
   "source": [
    "![image.png](attachment:image.png)"
   ]
  },
  {
   "cell_type": "code",
   "execution_count": 16,
   "metadata": {},
   "outputs": [
    {
     "name": "stdout",
     "output_type": "stream",
     "text": [
      "[0.5  0.75 1.   1.25 1.5 ] (20L,)\n"
     ]
    }
   ],
   "source": [
    "print x[:5], x.shape"
   ]
  },
  {
   "cell_type": "code",
   "execution_count": 17,
   "metadata": {},
   "outputs": [],
   "source": [
    "x=np.array([x,np.ones(x.shape[0])])"
   ]
  },
  {
   "cell_type": "code",
   "execution_count": 18,
   "metadata": {},
   "outputs": [
    {
     "data": {
      "text/plain": [
       "(20L, 2L)"
      ]
     },
     "execution_count": 18,
     "metadata": {},
     "output_type": "execute_result"
    }
   ],
   "source": [
    "x=x.T\n",
    "x.shape"
   ]
  },
  {
   "cell_type": "code",
   "execution_count": 19,
   "metadata": {},
   "outputs": [
    {
     "name": "stdout",
     "output_type": "stream",
     "text": [
      "[[0.5  1.  ]\n",
      " [0.75 1.  ]\n",
      " [1.   1.  ]\n",
      " [1.25 1.  ]\n",
      " [1.5  1.  ]\n",
      " [1.75 1.  ]\n",
      " [1.75 1.  ]\n",
      " [2.   1.  ]\n",
      " [2.25 1.  ]\n",
      " [2.5  1.  ]\n",
      " [2.75 1.  ]\n",
      " [3.   1.  ]\n",
      " [3.25 1.  ]\n",
      " [3.5  1.  ]\n",
      " [4.   1.  ]\n",
      " [4.25 1.  ]\n",
      " [4.5  1.  ]\n",
      " [4.75 1.  ]\n",
      " [5.   1.  ]\n",
      " [5.5  1.  ]]\n"
     ]
    }
   ],
   "source": [
    "print x"
   ]
  },
  {
   "cell_type": "markdown",
   "metadata": {},
   "source": [
    "## 로지스틱 모델링\n",
    "종속변수 y를 먼저 그리고 x는 절편 값이 기본으로 빠져 있으므로 필요하면 직접 추가해 주어야 한다. statsmodels.tools.add_constant()를 사용하거나 위와 같이 추가할 수 있다."
   ]
  },
  {
   "cell_type": "code",
   "execution_count": 22,
   "metadata": {},
   "outputs": [
    {
     "name": "stdout",
     "output_type": "stream",
     "text": [
      "Optimization terminated successfully.\n",
      "         Current function value: 0.401494\n",
      "         Iterations 7\n",
      "1.504645428373334 -4.077713431087632\n"
     ]
    }
   ],
   "source": [
    "import statsmodels.api as sm\n",
    "logit = sm.Logit(y,x)\n",
    "result = logit.fit()\n",
    "w1,w0=result.params\n",
    "print w1,w0"
   ]
  },
  {
   "attachments": {
    "image.png": {
     "image/png": "[encoded data removed]"
    }
   },
   "cell_type": "markdown",
   "metadata": {},
   "source": [
    "![image.png](attachment:image.png)"
   ]
  },
  {
   "cell_type": "code",
   "execution_count": 23,
   "metadata": {},
   "outputs": [
    {
     "data": {
      "image/png": "[encoded data removed]",
      "text/plain": [
       "<Figure size 432x288 with 1 Axes>"
      ]
     },
     "metadata": {
      "needs_background": "light"
     },
     "output_type": "display_data"
    }
   ],
   "source": [
    "#위에서 구한 w1,w0을 대입해서 그래프로 그려보기\n",
    "import matplotlib.pyplot as plt\n",
    "\n",
    "plt.plot(x, y, 'go')\n",
    "plt.plot(x,w0+w1*x,'b-')\n",
    "plt.plot(x,1/(1+np.exp(-(w0+w1*x))),'r-')\n",
    "plt.show()"
   ]
  },
  {
   "cell_type": "markdown",
   "metadata": {},
   "source": [
    "녹색 점이 실제데이터\n",
    "파란선 회귀식\n",
    "빨간선은 로지스틱 함수(시그모이드 곡선으로 회귀)"
   ]
  },
  {
   "attachments": {
    "image.png": {
     "image/png": "[encoded data removed]"
    }
   },
   "cell_type": "markdown",
   "metadata": {},
   "source": [
    "## Gradient\n",
    "### Cost\n",
    "![image.png](attachment:image.png)\n",
    "\n",
    "![image.png](attachment:image.png)\n",
    "\n",
    "위 식을 하나로 합친 식\n",
    "\n",
    "weight = weights - 학습률*gradient\n"
   ]
  },
  {
   "cell_type": "code",
   "execution_count": 41,
   "metadata": {},
   "outputs": [
    {
     "data": {
      "text/plain": [
       "((20L, 2L), (20L,))"
      ]
     },
     "execution_count": 41,
     "metadata": {},
     "output_type": "execute_result"
    }
   ],
   "source": [
    "# x, y 정의\n",
    "# x1은 실제 데이터의 상수가 들어있는 두개의 컬럼 벡터 (2차원)\n",
    "# y1은 0과 1로 이루어진 그냥 벡터 (1차원)\n",
    "# y도 2차원으로 바꾸어줘야 함.\n",
    "x1=x\n",
    "y1=y\n",
    "x1.shape, y1.shape"
   ]
  },
  {
   "attachments": {
    "image.png": {
     "image/png": "[encoded data removed]"
    }
   },
   "cell_type": "markdown",
   "metadata": {},
   "source": [
    "### h(x)함수\n",
    "sigmoid 함수\n",
    "\n",
    "h함수\n",
    "![image.png](attachment:image.png)"
   ]
  },
  {
   "cell_type": "code",
   "execution_count": 25,
   "metadata": {},
   "outputs": [],
   "source": [
    "def sigmoid(x):\n",
    "    import numpy as np\n",
    "    return 1.0/(1+np.exp(-x))"
   ]
  },
  {
   "cell_type": "code",
   "execution_count": 26,
   "metadata": {},
   "outputs": [],
   "source": [
    "def h(x,theta):\n",
    "    z=np.dot(x,theta)\n",
    "    return sigmoid(z)"
   ]
  },
  {
   "cell_type": "markdown",
   "metadata": {},
   "source": [
    "### weights\n",
    "컬럼갯수만큼 만들어주고 x데이터와의 연산을 위해 shape을 맞추어 주어야 함.\n",
    "\n",
    "weights=np.ones([x.shape[0],1])"
   ]
  },
  {
   "cell_type": "code",
   "execution_count": 27,
   "metadata": {},
   "outputs": [
    {
     "name": "stdout",
     "output_type": "stream",
     "text": [
      "[[1.]\n",
      " [1.]] (2L, 1L)\n"
     ]
    }
   ],
   "source": [
    "weights=np.ones([x1.shape[1],1])\n",
    "print weights,weights.shape\n",
    "# 첫번째 출력값은 2차원으로 만들어줌"
   ]
  },
  {
   "cell_type": "code",
   "execution_count": 28,
   "metadata": {},
   "outputs": [
    {
     "data": {
      "text/plain": [
       "array([[0.81757448],\n",
       "       [0.8519528 ],\n",
       "       [0.88079708],\n",
       "       [0.90465054],\n",
       "       [0.92414182]])"
      ]
     },
     "execution_count": 28,
     "metadata": {},
     "output_type": "execute_result"
    }
   ],
   "source": [
    "# 앞서 만든 weights를 사용해 h(x)를 계산\n",
    "h(x1[:5],weights)"
   ]
  },
  {
   "cell_type": "markdown",
   "metadata": {},
   "source": [
    "### gradient 계산"
   ]
  },
  {
   "cell_type": "markdown",
   "metadata": {},
   "source": [
    "#### cost function\n",
    "cost function은 h-y\n",
    "전체 평균을 계산 (아래 식으로)\n",
    "\n",
    "total_cost = -(1/m)*np.sum(y*np.log(h)+(1-y)*np.log(1-h))"
   ]
  },
  {
   "cell_type": "code",
   "execution_count": 42,
   "metadata": {},
   "outputs": [
    {
     "data": {
      "text/plain": [
       "(20L, 1L)"
      ]
     },
     "execution_count": 42,
     "metadata": {},
     "output_type": "execute_result"
    }
   ],
   "source": [
    "y1=y1[:,np.newaxis]\n",
    "y1.shape"
   ]
  },
  {
   "cell_type": "code",
   "execution_count": 43,
   "metadata": {},
   "outputs": [],
   "source": [
    "def loss(h, y):\n",
    "    return (-y * np.log(h) - (1 - y) * np.log(1 - h)).mean()"
   ]
  },
  {
   "cell_type": "code",
   "execution_count": 44,
   "metadata": {},
   "outputs": [
    {
     "data": {
      "text/plain": [
       "1.4373882978982158"
      ]
     },
     "execution_count": 44,
     "metadata": {},
     "output_type": "execute_result"
    }
   ],
   "source": [
    "loss(h(x1,weights),y1)"
   ]
  },
  {
   "cell_type": "code",
   "execution_count": 45,
   "metadata": {},
   "outputs": [
    {
     "data": {
      "text/plain": [
       "((20L, 1L), (20L, 2L), (20L, 1L))"
      ]
     },
     "execution_count": 45,
     "metadata": {},
     "output_type": "execute_result"
    }
   ],
   "source": [
    "h(x1,weights).shape, x1.shape,y1.shape"
   ]
  },
  {
   "cell_type": "code",
   "execution_count": 46,
   "metadata": {},
   "outputs": [
    {
     "name": "stdout",
     "output_type": "stream",
     "text": [
      "(20L, 1L)\n"
     ]
    }
   ],
   "source": [
    "# 에러 = 예측값 - 실제값\n",
    "error=h(x1,weights)-y1\n",
    "print error.shape"
   ]
  },
  {
   "cell_type": "markdown",
   "metadata": {},
   "source": [
    "기울기 Gradient는 오류에 x.T를 계산해야 한다. x의 transpose를 계산해야 하는 이유는, gradient는 x 컬럼 갯수만큼 결과가 산출되어야 하기 때문이다."
   ]
  },
  {
   "cell_type": "code",
   "execution_count": 47,
   "metadata": {},
   "outputs": [
    {
     "data": {
      "text/plain": [
       "array([[16.42888382],\n",
       "       [ 9.05573467]])"
      ]
     },
     "execution_count": 47,
     "metadata": {},
     "output_type": "execute_result"
    }
   ],
   "source": [
    "np.dot(x1.T,error)"
   ]
  },
  {
   "cell_type": "code",
   "execution_count": 48,
   "metadata": {},
   "outputs": [],
   "source": [
    "def gradientDescent(x, h, y):\n",
    "    return np.dot(x.T, (h-y)) / y.shape[0]"
   ]
  },
  {
   "cell_type": "code",
   "execution_count": 49,
   "metadata": {},
   "outputs": [
    {
     "data": {
      "text/plain": [
       "array([[0.82144419],\n",
       "       [0.45278673]])"
      ]
     },
     "execution_count": 49,
     "metadata": {},
     "output_type": "execute_result"
    }
   ],
   "source": [
    "gradientDescent(x1,h(x1,weights),y1)"
   ]
  },
  {
   "cell_type": "markdown",
   "metadata": {},
   "source": [
    "### update\n",
    "weights에서 gradient를 하강하면서, 즉 weights−α×gradient가 수렴할 때까지 반복"
   ]
  },
  {
   "cell_type": "code",
   "execution_count": 52,
   "metadata": {},
   "outputs": [
    {
     "name": "stdout",
     "output_type": "stream",
     "text": [
      "2\n",
      "[[1.]\n",
      " [1.]]\n",
      "0 theta:[[0.83571116]\n",
      " [0.90944265]]\n",
      "1000 theta:[[ 1.46445514]\n",
      " [-3.95885309]]\n",
      "2000 theta:[[ 1.50248787]\n",
      " [-4.07133946]]\n",
      "3000 theta:[[ 1.50452706]\n",
      " [-4.07736375]]\n",
      "4000 theta:[[ 1.50463893]\n",
      " [-4.07769422]]\n",
      "5000 theta:[[ 1.50464507]\n",
      " [-4.07771238]]\n",
      "6000 theta:[[ 1.50464541]\n",
      " [-4.07771337]]\n",
      "7000 theta:[[ 1.50464543]\n",
      " [-4.07771343]]\n",
      "8000 theta:[[ 1.50464543]\n",
      " [-4.07771343]]\n",
      "9000 theta:[[ 1.50464543]\n",
      " [-4.07771343]]\n",
      "[[ 1.50464543]\n",
      " [-4.07771343]]\n"
     ]
    }
   ],
   "source": [
    "iter=10000\n",
    "alpha=0.01\n",
    "#m=X.shape[0]\n",
    "#####weights=np.ones([x1.shape[1]])\n",
    "weights=np.ones([x1.shape[1],1])\n",
    "print x1.shape[1]\n",
    "print weights\n",
    "#theta=np.array([1,1],dtype=float)\n",
    "for i in range(iter):\n",
    "    #predicted\n",
    "    _h=h(x1,weights)\n",
    "    #error\n",
    "    error=_h-y1\n",
    "    #gradient=np.dot(x1.T, error) / y1.shape[0]\n",
    "    gradient=np.dot(x1.T, error)\n",
    "    #update\n",
    "    weights-=alpha*gradient\n",
    "    if i%1000==0:\n",
    "        print \"{0} theta:{1}\".format(i,weights)\n",
    "print weights"
   ]
  },
  {
   "cell_type": "markdown",
   "metadata": {},
   "source": [
    "## 문제: 입학\n",
    "\n",
    "UCLA대학에서 제공되는 데이터를 분석해보자. admit은 종속변수로, 합격/불합격을 나타내는 이진적 값을 가진다. 나머지 변수는 독립변수로 GRE (Graduate Record Exam scores), GPA (grade point average), rank는 학부의 평판을 나타낸댜. GRE, GPA는 연속변수이고 rank는 학부평판으로 1이면 최상 4이면 최하의 평판을 의미한다."
   ]
  },
  {
   "cell_type": "markdown",
   "metadata": {},
   "source": [
    "### 데이터 읽기"
   ]
  },
  {
   "cell_type": "code",
   "execution_count": 53,
   "metadata": {},
   "outputs": [
    {
     "data": {
      "text/html": [
       "<div>\n",
       "<style scoped>\n",
       "    .dataframe tbody tr th:only-of-type {\n",
       "        vertical-align: middle;\n",
       "    }\n",
       "\n",
       "    .dataframe tbody tr th {\n",
       "        vertical-align: top;\n",
       "    }\n",
       "\n",
       "    .dataframe thead th {\n",
       "        text-align: right;\n",
       "    }\n",
       "</style>\n",
       "<table border=\"1\" class=\"dataframe\">\n",
       "  <thead>\n",
       "    <tr style=\"text-align: right;\">\n",
       "      <th></th>\n",
       "      <th>admit</th>\n",
       "      <th>gre</th>\n",
       "      <th>gpa</th>\n",
       "      <th>rank</th>\n",
       "    </tr>\n",
       "  </thead>\n",
       "  <tbody>\n",
       "    <tr>\n",
       "      <th>0</th>\n",
       "      <td>0</td>\n",
       "      <td>380</td>\n",
       "      <td>3.61</td>\n",
       "      <td>3</td>\n",
       "    </tr>\n",
       "    <tr>\n",
       "      <th>1</th>\n",
       "      <td>1</td>\n",
       "      <td>660</td>\n",
       "      <td>3.67</td>\n",
       "      <td>3</td>\n",
       "    </tr>\n",
       "    <tr>\n",
       "      <th>2</th>\n",
       "      <td>1</td>\n",
       "      <td>800</td>\n",
       "      <td>4.00</td>\n",
       "      <td>1</td>\n",
       "    </tr>\n",
       "    <tr>\n",
       "      <th>3</th>\n",
       "      <td>1</td>\n",
       "      <td>640</td>\n",
       "      <td>3.19</td>\n",
       "      <td>4</td>\n",
       "    </tr>\n",
       "    <tr>\n",
       "      <th>4</th>\n",
       "      <td>0</td>\n",
       "      <td>520</td>\n",
       "      <td>2.93</td>\n",
       "      <td>4</td>\n",
       "    </tr>\n",
       "  </tbody>\n",
       "</table>\n",
       "</div>"
      ],
      "text/plain": [
       "   admit  gre   gpa  rank\n",
       "0      0  380  3.61     3\n",
       "1      1  660  3.67     3\n",
       "2      1  800  4.00     1\n",
       "3      1  640  3.19     4\n",
       "4      0  520  2.93     4"
      ]
     },
     "execution_count": 53,
     "metadata": {},
     "output_type": "execute_result"
    }
   ],
   "source": [
    "import pandas as pd\n",
    "df = pd.read_csv(\"https://stats.idre.ucla.edu/stat/data/binary.csv\")\n",
    "df.head()"
   ]
  },
  {
   "cell_type": "code",
   "execution_count": 54,
   "metadata": {},
   "outputs": [],
   "source": [
    "# 동일한 명칭의 함수가 DataFrame에 있기 때문에 'prestige'로 변경\n",
    "df.columns = [\"admit\", \"gre\", \"gpa\", \"prestige\"]"
   ]
  },
  {
   "cell_type": "code",
   "execution_count": 55,
   "metadata": {},
   "outputs": [
    {
     "name": "stdout",
     "output_type": "stream",
     "text": [
      "            admit         gre         gpa   prestige\n",
      "count  400.000000  400.000000  400.000000  400.00000\n",
      "mean     0.317500  587.700000    3.389900    2.48500\n",
      "std      0.466087  115.516536    0.380567    0.94446\n",
      "min      0.000000  220.000000    2.260000    1.00000\n",
      "25%      0.000000  520.000000    3.130000    2.00000\n",
      "50%      0.000000  580.000000    3.395000    2.00000\n",
      "75%      1.000000  660.000000    3.670000    3.00000\n",
      "max      1.000000  800.000000    4.000000    4.00000\n"
     ]
    }
   ],
   "source": [
    "print df.describe()"
   ]
  },
  {
   "cell_type": "code",
   "execution_count": 56,
   "metadata": {},
   "outputs": [
    {
     "name": "stdout",
     "output_type": "stream",
     "text": [
      "prestige   1   2   3   4\n",
      "admit                   \n",
      "0         28  97  93  55\n",
      "1         33  54  28  12\n"
     ]
    }
   ],
   "source": [
    "# 교차빈도 구하기\n",
    "print pd.crosstab(df['admit'], df['prestige'], rownames=['admit'])"
   ]
  },
  {
   "cell_type": "code",
   "execution_count": 58,
   "metadata": {},
   "outputs": [
    {
     "data": {
      "image/png": "[encoded data removed]",
      "text/plain": [
       "<Figure size 432x288 with 4 Axes>"
      ]
     },
     "metadata": {
      "needs_background": "light"
     },
     "output_type": "display_data"
    }
   ],
   "source": [
    "%matplotlib inline\n",
    "import pylab as pl\n",
    "df.hist()\n",
    "pl.show()"
   ]
  },
  {
   "cell_type": "markdown",
   "metadata": {},
   "source": [
    "### 모델링\n",
    "pasty를 이용해 모델링을 완성\n",
    "\n",
    "DesignMatrics 첫째 인자는\n",
    "\n",
    "admit ~ gre + gpa + C(prestige)\n",
    "두번째 인자는 데이터 df, return_type을 정해 줄 수 있다. pandas DataFrame 또는 numpy record array로 저장할 수 있다. prestige는 category 변수로 만들어 모델을 만들어 준다.\n",
    "\n",
    "반환 값은 종속변수와 독립변수인 y, X를 돌려준다."
   ]
  },
  {
   "cell_type": "code",
   "execution_count": 61,
   "metadata": {},
   "outputs": [
    {
     "name": "stdout",
     "output_type": "stream",
     "text": [
      "     admit\n",
      "0      0.0\n",
      "1      1.0\n",
      "2      1.0\n",
      "3      1.0\n",
      "4      0.0\n",
      "5      1.0\n",
      "6      1.0\n",
      "7      0.0\n",
      "8      1.0\n",
      "9      0.0\n",
      "10     0.0\n",
      "11     0.0\n",
      "12     1.0\n",
      "13     0.0\n",
      "14     1.0\n",
      "15     0.0\n",
      "16     0.0\n",
      "17     0.0\n",
      "18     0.0\n",
      "19     1.0\n",
      "20     0.0\n",
      "21     1.0\n",
      "22     0.0\n",
      "23     0.0\n",
      "24     1.0\n",
      "25     1.0\n",
      "26     1.0\n",
      "27     1.0\n",
      "28     1.0\n",
      "29     0.0\n",
      "..     ...\n",
      "370    1.0\n",
      "371    1.0\n",
      "372    1.0\n",
      "373    1.0\n",
      "374    0.0\n",
      "375    0.0\n",
      "376    0.0\n",
      "377    1.0\n",
      "378    0.0\n",
      "379    0.0\n",
      "380    0.0\n",
      "381    1.0\n",
      "382    0.0\n",
      "383    0.0\n",
      "384    1.0\n",
      "385    0.0\n",
      "386    1.0\n",
      "387    0.0\n",
      "388    0.0\n",
      "389    0.0\n",
      "390    1.0\n",
      "391    1.0\n",
      "392    1.0\n",
      "393    1.0\n",
      "394    1.0\n",
      "395    0.0\n",
      "396    0.0\n",
      "397    0.0\n",
      "398    0.0\n",
      "399    0.0\n",
      "\n",
      "[400 rows x 1 columns]\n"
     ]
    }
   ],
   "source": [
    "from patsy import dmatrices\n",
    "y, X = dmatrices('admit ~ gre + gpa + C(prestige)', df, return_type = 'dataframe')\n",
    "print y"
   ]
  },
  {
   "cell_type": "code",
   "execution_count": 60,
   "metadata": {},
   "outputs": [
    {
     "data": {
      "text/html": [
       "<div>\n",
       "<style scoped>\n",
       "    .dataframe tbody tr th:only-of-type {\n",
       "        vertical-align: middle;\n",
       "    }\n",
       "\n",
       "    .dataframe tbody tr th {\n",
       "        vertical-align: top;\n",
       "    }\n",
       "\n",
       "    .dataframe thead th {\n",
       "        text-align: right;\n",
       "    }\n",
       "</style>\n",
       "<table border=\"1\" class=\"dataframe\">\n",
       "  <thead>\n",
       "    <tr style=\"text-align: right;\">\n",
       "      <th></th>\n",
       "      <th>Intercept</th>\n",
       "      <th>C(prestige)[T.2L]</th>\n",
       "      <th>C(prestige)[T.3L]</th>\n",
       "      <th>C(prestige)[T.4L]</th>\n",
       "      <th>gre</th>\n",
       "      <th>gpa</th>\n",
       "    </tr>\n",
       "  </thead>\n",
       "  <tbody>\n",
       "    <tr>\n",
       "      <th>0</th>\n",
       "      <td>1.0</td>\n",
       "      <td>0.0</td>\n",
       "      <td>1.0</td>\n",
       "      <td>0.0</td>\n",
       "      <td>380.0</td>\n",
       "      <td>3.61</td>\n",
       "    </tr>\n",
       "    <tr>\n",
       "      <th>1</th>\n",
       "      <td>1.0</td>\n",
       "      <td>0.0</td>\n",
       "      <td>1.0</td>\n",
       "      <td>0.0</td>\n",
       "      <td>660.0</td>\n",
       "      <td>3.67</td>\n",
       "    </tr>\n",
       "    <tr>\n",
       "      <th>2</th>\n",
       "      <td>1.0</td>\n",
       "      <td>0.0</td>\n",
       "      <td>0.0</td>\n",
       "      <td>0.0</td>\n",
       "      <td>800.0</td>\n",
       "      <td>4.00</td>\n",
       "    </tr>\n",
       "    <tr>\n",
       "      <th>3</th>\n",
       "      <td>1.0</td>\n",
       "      <td>0.0</td>\n",
       "      <td>0.0</td>\n",
       "      <td>1.0</td>\n",
       "      <td>640.0</td>\n",
       "      <td>3.19</td>\n",
       "    </tr>\n",
       "    <tr>\n",
       "      <th>4</th>\n",
       "      <td>1.0</td>\n",
       "      <td>0.0</td>\n",
       "      <td>0.0</td>\n",
       "      <td>1.0</td>\n",
       "      <td>520.0</td>\n",
       "      <td>2.93</td>\n",
       "    </tr>\n",
       "  </tbody>\n",
       "</table>\n",
       "</div>"
      ],
      "text/plain": [
       "   Intercept  C(prestige)[T.2L]  C(prestige)[T.3L]  C(prestige)[T.4L]    gre  \\\n",
       "0        1.0                0.0                1.0                0.0  380.0   \n",
       "1        1.0                0.0                1.0                0.0  660.0   \n",
       "2        1.0                0.0                0.0                0.0  800.0   \n",
       "3        1.0                0.0                0.0                1.0  640.0   \n",
       "4        1.0                0.0                0.0                1.0  520.0   \n",
       "\n",
       "    gpa  \n",
       "0  3.61  \n",
       "1  3.67  \n",
       "2  4.00  \n",
       "3  3.19  \n",
       "4  2.93  "
      ]
     },
     "execution_count": 60,
     "metadata": {},
     "output_type": "execute_result"
    }
   ],
   "source": [
    "X.head()"
   ]
  },
  {
   "cell_type": "markdown",
   "metadata": {},
   "source": [
    "### statsmodel"
   ]
  },
  {
   "cell_type": "code",
   "execution_count": 62,
   "metadata": {},
   "outputs": [
    {
     "name": "stdout",
     "output_type": "stream",
     "text": [
      "Optimization terminated successfully.\n",
      "         Current function value: 0.573147\n",
      "         Iterations 6\n",
      "                           Logit Regression Results                           \n",
      "==============================================================================\n",
      "Dep. Variable:                  admit   No. Observations:                  400\n",
      "Model:                          Logit   Df Residuals:                      394\n",
      "Method:                           MLE   Df Model:                            5\n",
      "Date:                Tue, 17 Dec 2019   Pseudo R-squ.:                 0.08292\n",
      "Time:                        13:40:33   Log-Likelihood:                -229.26\n",
      "converged:                       True   LL-Null:                       -249.99\n",
      "Covariance Type:            nonrobust   LLR p-value:                 7.578e-08\n",
      "=====================================================================================\n",
      "                        coef    std err          z      P>|z|      [0.025      0.975]\n",
      "-------------------------------------------------------------------------------------\n",
      "Intercept            -3.9900      1.140     -3.500      0.000      -6.224      -1.756\n",
      "C(prestige)[T.2L]    -0.6754      0.316     -2.134      0.033      -1.296      -0.055\n",
      "C(prestige)[T.3L]    -1.3402      0.345     -3.881      0.000      -2.017      -0.663\n",
      "C(prestige)[T.4L]    -1.5515      0.418     -3.713      0.000      -2.370      -0.733\n",
      "gre                   0.0023      0.001      2.070      0.038       0.000       0.004\n",
      "gpa                   0.8040      0.332      2.423      0.015       0.154       1.454\n",
      "=====================================================================================\n"
     ]
    }
   ],
   "source": [
    "import statsmodels.discrete.discrete_model as sm\n",
    "\n",
    "logit = sm.Logit(y,X)\n",
    "result = logit.fit()\n",
    "print result.summary()"
   ]
  },
  {
   "cell_type": "code",
   "execution_count": 42,
   "metadata": {},
   "outputs": [
    {
     "name": "stdout",
     "output_type": "stream",
     "text": [
      "Intercept           -3.989979\n",
      "C(prestige)[T.2L]   -0.675443\n",
      "C(prestige)[T.3L]   -1.340204\n",
      "C(prestige)[T.4L]   -1.551464\n",
      "gre                  0.002264\n",
      "gpa                  0.804038\n",
      "dtype: float64\n",
      "                          0         1\n",
      "Intercept         -6.224242 -1.755716\n",
      "C(prestige)[T.2L] -1.295751 -0.055135\n",
      "C(prestige)[T.3L] -2.016992 -0.663416\n",
      "C(prestige)[T.4L] -2.370399 -0.732529\n",
      "gre                0.000120  0.004409\n",
      "gpa                0.153684  1.454391\n"
     ]
    }
   ],
   "source": [
    "# weights와 conf_int 신뢰구간을 출력\n",
    "print result.params\n",
    "\n",
    "print result.conf_int()"
   ]
  },
  {
   "cell_type": "markdown",
   "metadata": {},
   "source": [
    "### sklearn\n",
    "순서대로 절편과 prestige, gre, gpa에 대한 가중치가 출력되고 있으며 statsmodel의 결과와 비교해 보자. statsmodel과 그 결과에 약간의 차이가 있다."
   ]
  },
  {
   "cell_type": "code",
   "execution_count": 43,
   "metadata": {},
   "outputs": [
    {
     "name": "stderr",
     "output_type": "stream",
     "text": [
      "C:\\Users\\user\\Anaconda2\\lib\\site-packages\\sklearn\\linear_model\\logistic.py:433: FutureWarning: Default solver will be changed to 'lbfgs' in 0.22. Specify a solver to silence this warning.\n",
      "  FutureWarning)\n",
      "C:\\Users\\user\\Anaconda2\\lib\\site-packages\\sklearn\\utils\\validation.py:761: DataConversionWarning: A column-vector y was passed when a 1d array was expected. Please change the shape of y to (n_samples, ), for example using ravel().\n",
      "  y = column_or_1d(y, warn=True)\n"
     ]
    },
    {
     "data": {
      "text/plain": [
       "array([[-3.97765654e+00, -6.74567838e-01, -1.33708167e+00,\n",
       "        -1.55029740e+00,  2.25513644e-03,  8.01765502e-01]])"
      ]
     },
     "execution_count": 43,
     "metadata": {},
     "output_type": "execute_result"
    }
   ],
   "source": [
    "from sklearn.linear_model import LogisticRegression\n",
    "model = LogisticRegression(fit_intercept = False, C = 1e9)\n",
    "mdl = model.fit(X, y)\n",
    "model.coef_"
   ]
  },
  {
   "attachments": {
    "image.png": {
     "image/png": "[encoded data removed]"
    }
   },
   "cell_type": "markdown",
   "metadata": {},
   "source": [
    "## 문제: 성별\n",
    "![image.png](attachment:image.png)"
   ]
  },
  {
   "cell_type": "code",
   "execution_count": 65,
   "metadata": {},
   "outputs": [],
   "source": [
    "#taken from pystat from this below\n",
    "import statsmodels.api as sm\n",
    "mass=sm.datasets.get_rdataset(\"survey\",\"MASS\")"
   ]
  },
  {
   "cell_type": "code",
   "execution_count": 66,
   "metadata": {},
   "outputs": [
    {
     "data": {
      "text/html": [
       "<div>\n",
       "<style scoped>\n",
       "    .dataframe tbody tr th:only-of-type {\n",
       "        vertical-align: middle;\n",
       "    }\n",
       "\n",
       "    .dataframe tbody tr th {\n",
       "        vertical-align: top;\n",
       "    }\n",
       "\n",
       "    .dataframe thead th {\n",
       "        text-align: right;\n",
       "    }\n",
       "</style>\n",
       "<table border=\"1\" class=\"dataframe\">\n",
       "  <thead>\n",
       "    <tr style=\"text-align: right;\">\n",
       "      <th></th>\n",
       "      <th>Sex</th>\n",
       "      <th>Wr.Hnd</th>\n",
       "      <th>NW.Hnd</th>\n",
       "      <th>W.Hnd</th>\n",
       "      <th>Fold</th>\n",
       "      <th>Pulse</th>\n",
       "      <th>Clap</th>\n",
       "      <th>Exer</th>\n",
       "      <th>Smoke</th>\n",
       "      <th>Height</th>\n",
       "      <th>M.I</th>\n",
       "      <th>Age</th>\n",
       "    </tr>\n",
       "  </thead>\n",
       "  <tbody>\n",
       "    <tr>\n",
       "      <th>0</th>\n",
       "      <td>Female</td>\n",
       "      <td>18.5</td>\n",
       "      <td>18.0</td>\n",
       "      <td>Right</td>\n",
       "      <td>R on L</td>\n",
       "      <td>92.0</td>\n",
       "      <td>Left</td>\n",
       "      <td>Some</td>\n",
       "      <td>Never</td>\n",
       "      <td>173.0</td>\n",
       "      <td>Metric</td>\n",
       "      <td>18.250</td>\n",
       "    </tr>\n",
       "    <tr>\n",
       "      <th>1</th>\n",
       "      <td>Male</td>\n",
       "      <td>19.5</td>\n",
       "      <td>20.5</td>\n",
       "      <td>Left</td>\n",
       "      <td>R on L</td>\n",
       "      <td>104.0</td>\n",
       "      <td>Left</td>\n",
       "      <td>None</td>\n",
       "      <td>Regul</td>\n",
       "      <td>177.8</td>\n",
       "      <td>Imperial</td>\n",
       "      <td>17.583</td>\n",
       "    </tr>\n",
       "    <tr>\n",
       "      <th>2</th>\n",
       "      <td>Male</td>\n",
       "      <td>18.0</td>\n",
       "      <td>13.3</td>\n",
       "      <td>Right</td>\n",
       "      <td>L on R</td>\n",
       "      <td>87.0</td>\n",
       "      <td>Neither</td>\n",
       "      <td>None</td>\n",
       "      <td>Occas</td>\n",
       "      <td>NaN</td>\n",
       "      <td>NaN</td>\n",
       "      <td>16.917</td>\n",
       "    </tr>\n",
       "    <tr>\n",
       "      <th>3</th>\n",
       "      <td>Male</td>\n",
       "      <td>18.8</td>\n",
       "      <td>18.9</td>\n",
       "      <td>Right</td>\n",
       "      <td>R on L</td>\n",
       "      <td>NaN</td>\n",
       "      <td>Neither</td>\n",
       "      <td>None</td>\n",
       "      <td>Never</td>\n",
       "      <td>160.0</td>\n",
       "      <td>Metric</td>\n",
       "      <td>20.333</td>\n",
       "    </tr>\n",
       "    <tr>\n",
       "      <th>4</th>\n",
       "      <td>Male</td>\n",
       "      <td>20.0</td>\n",
       "      <td>20.0</td>\n",
       "      <td>Right</td>\n",
       "      <td>Neither</td>\n",
       "      <td>35.0</td>\n",
       "      <td>Right</td>\n",
       "      <td>Some</td>\n",
       "      <td>Never</td>\n",
       "      <td>165.0</td>\n",
       "      <td>Metric</td>\n",
       "      <td>23.667</td>\n",
       "    </tr>\n",
       "  </tbody>\n",
       "</table>\n",
       "</div>"
      ],
      "text/plain": [
       "      Sex  Wr.Hnd  NW.Hnd  W.Hnd     Fold  Pulse     Clap  Exer  Smoke  \\\n",
       "0  Female    18.5    18.0  Right   R on L   92.0     Left  Some  Never   \n",
       "1    Male    19.5    20.5   Left   R on L  104.0     Left  None  Regul   \n",
       "2    Male    18.0    13.3  Right   L on R   87.0  Neither  None  Occas   \n",
       "3    Male    18.8    18.9  Right   R on L    NaN  Neither  None  Never   \n",
       "4    Male    20.0    20.0  Right  Neither   35.0    Right  Some  Never   \n",
       "\n",
       "   Height       M.I     Age  \n",
       "0   173.0    Metric  18.250  \n",
       "1   177.8  Imperial  17.583  \n",
       "2     NaN       NaN  16.917  \n",
       "3   160.0    Metric  20.333  \n",
       "4   165.0    Metric  23.667  "
      ]
     },
     "execution_count": 66,
     "metadata": {},
     "output_type": "execute_result"
    }
   ],
   "source": [
    "mass.data.head()"
   ]
  },
  {
   "cell_type": "code",
   "execution_count": 67,
   "metadata": {},
   "outputs": [
    {
     "data": {
      "text/plain": [
       "pandas.core.frame.DataFrame"
      ]
     },
     "execution_count": 67,
     "metadata": {},
     "output_type": "execute_result"
    }
   ],
   "source": [
    "type(mass.data)"
   ]
  },
  {
   "cell_type": "code",
   "execution_count": 68,
   "metadata": {},
   "outputs": [
    {
     "data": {
      "text/plain": [
       "Index([u'Sex', u'Wr.Hnd', u'NW.Hnd', u'W.Hnd', u'Fold', u'Pulse', u'Clap',\n",
       "       u'Exer', u'Smoke', u'Height', u'M.I', u'Age'],\n",
       "      dtype='object')"
      ]
     },
     "execution_count": 68,
     "metadata": {},
     "output_type": "execute_result"
    }
   ],
   "source": [
    "mass.data.columns"
   ]
  },
  {
   "cell_type": "code",
   "execution_count": 69,
   "metadata": {},
   "outputs": [],
   "source": [
    "mass.data.columns=['sex','wr','nw','w','fold','pulse','clap','exer','smoke','height','mi','age']\n"
   ]
  },
  {
   "cell_type": "code",
   "execution_count": 70,
   "metadata": {},
   "outputs": [
    {
     "data": {
      "text/plain": [
       "Index([u'sex', u'wr', u'nw', u'w', u'fold', u'pulse', u'clap', u'exer',\n",
       "       u'smoke', u'height', u'mi', u'age'],\n",
       "      dtype='object')"
      ]
     },
     "execution_count": 70,
     "metadata": {},
     "output_type": "execute_result"
    }
   ],
   "source": [
    "mass.data.columns"
   ]
  },
  {
   "cell_type": "code",
   "execution_count": 71,
   "metadata": {},
   "outputs": [
    {
     "data": {
      "text/html": [
       "<div>\n",
       "<style scoped>\n",
       "    .dataframe tbody tr th:only-of-type {\n",
       "        vertical-align: middle;\n",
       "    }\n",
       "\n",
       "    .dataframe tbody tr th {\n",
       "        vertical-align: top;\n",
       "    }\n",
       "\n",
       "    .dataframe thead th {\n",
       "        text-align: right;\n",
       "    }\n",
       "</style>\n",
       "<table border=\"1\" class=\"dataframe\">\n",
       "  <thead>\n",
       "    <tr style=\"text-align: right;\">\n",
       "      <th></th>\n",
       "      <th>wr</th>\n",
       "      <th>nw</th>\n",
       "      <th>pulse</th>\n",
       "      <th>height</th>\n",
       "      <th>age</th>\n",
       "    </tr>\n",
       "    <tr>\n",
       "      <th>sex</th>\n",
       "      <th></th>\n",
       "      <th></th>\n",
       "      <th></th>\n",
       "      <th></th>\n",
       "      <th></th>\n",
       "    </tr>\n",
       "  </thead>\n",
       "  <tbody>\n",
       "    <tr>\n",
       "      <th>Female</th>\n",
       "      <td>17.595763</td>\n",
       "      <td>17.45678</td>\n",
       "      <td>75.126316</td>\n",
       "      <td>165.686667</td>\n",
       "      <td>20.407534</td>\n",
       "    </tr>\n",
       "    <tr>\n",
       "      <th>Male</th>\n",
       "      <td>19.741880</td>\n",
       "      <td>19.71453</td>\n",
       "      <td>73.197917</td>\n",
       "      <td>178.826038</td>\n",
       "      <td>20.331958</td>\n",
       "    </tr>\n",
       "  </tbody>\n",
       "</table>\n",
       "</div>"
      ],
      "text/plain": [
       "               wr        nw      pulse      height        age\n",
       "sex                                                          \n",
       "Female  17.595763  17.45678  75.126316  165.686667  20.407534\n",
       "Male    19.741880  19.71453  73.197917  178.826038  20.331958"
      ]
     },
     "execution_count": 71,
     "metadata": {},
     "output_type": "execute_result"
    }
   ],
   "source": [
    "mass.data.groupby('sex').mean()"
   ]
  },
  {
   "cell_type": "code",
   "execution_count": 72,
   "metadata": {},
   "outputs": [
    {
     "data": {
      "text/html": [
       "<div>\n",
       "<style scoped>\n",
       "    .dataframe tbody tr th:only-of-type {\n",
       "        vertical-align: middle;\n",
       "    }\n",
       "\n",
       "    .dataframe tbody tr th {\n",
       "        vertical-align: top;\n",
       "    }\n",
       "\n",
       "    .dataframe thead th {\n",
       "        text-align: right;\n",
       "    }\n",
       "</style>\n",
       "<table border=\"1\" class=\"dataframe\">\n",
       "  <thead>\n",
       "    <tr style=\"text-align: right;\">\n",
       "      <th></th>\n",
       "      <th>wr</th>\n",
       "      <th>nw</th>\n",
       "      <th>w</th>\n",
       "      <th>fold</th>\n",
       "      <th>pulse</th>\n",
       "      <th>clap</th>\n",
       "      <th>exer</th>\n",
       "      <th>smoke</th>\n",
       "      <th>height</th>\n",
       "      <th>mi</th>\n",
       "      <th>age</th>\n",
       "    </tr>\n",
       "    <tr>\n",
       "      <th>sex</th>\n",
       "      <th></th>\n",
       "      <th></th>\n",
       "      <th></th>\n",
       "      <th></th>\n",
       "      <th></th>\n",
       "      <th></th>\n",
       "      <th></th>\n",
       "      <th></th>\n",
       "      <th></th>\n",
       "      <th></th>\n",
       "      <th></th>\n",
       "    </tr>\n",
       "  </thead>\n",
       "  <tbody>\n",
       "    <tr>\n",
       "      <th>Female</th>\n",
       "      <td>118</td>\n",
       "      <td>118</td>\n",
       "      <td>117</td>\n",
       "      <td>118</td>\n",
       "      <td>95</td>\n",
       "      <td>118</td>\n",
       "      <td>118</td>\n",
       "      <td>118</td>\n",
       "      <td>102</td>\n",
       "      <td>102</td>\n",
       "      <td>118</td>\n",
       "    </tr>\n",
       "    <tr>\n",
       "      <th>Male</th>\n",
       "      <td>117</td>\n",
       "      <td>117</td>\n",
       "      <td>118</td>\n",
       "      <td>118</td>\n",
       "      <td>96</td>\n",
       "      <td>117</td>\n",
       "      <td>118</td>\n",
       "      <td>117</td>\n",
       "      <td>106</td>\n",
       "      <td>106</td>\n",
       "      <td>118</td>\n",
       "    </tr>\n",
       "  </tbody>\n",
       "</table>\n",
       "</div>"
      ],
      "text/plain": [
       "         wr   nw    w  fold  pulse  clap  exer  smoke  height   mi  age\n",
       "sex                                                                    \n",
       "Female  118  118  117   118     95   118   118    118     102  102  118\n",
       "Male    117  117  118   118     96   117   118    117     106  106  118"
      ]
     },
     "execution_count": 72,
     "metadata": {},
     "output_type": "execute_result"
    }
   ],
   "source": [
    "mass.data.groupby('sex').count()"
   ]
  },
  {
   "cell_type": "code",
   "execution_count": 74,
   "metadata": {},
   "outputs": [
    {
     "data": {
      "image/png": "[encoded data removed]",
      "text/plain": [
       "<Figure size 432x288 with 2 Axes>"
      ]
     },
     "metadata": {
      "needs_background": "light"
     },
     "output_type": "display_data"
    }
   ],
   "source": [
    "%matplotlib inline\n",
    "\n",
    "import seaborn as sns\n",
    "import matplotlib.pyplot as plt\n",
    "corr= mass.data.corr()\n",
    "sns.heatmap(corr, annot=True)\n",
    "plt.show()"
   ]
  },
  {
   "cell_type": "markdown",
   "metadata": {},
   "source": [
    "### 로지스틱 모델"
   ]
  },
  {
   "cell_type": "code",
   "execution_count": 75,
   "metadata": {},
   "outputs": [],
   "source": [
    "formula='sex ~ wr+nw+w+pulse+height+age'\n",
    "import statsmodels.formula.api as smf\n",
    "model=smf.glm(formula,data=mass.data,family=sm.families.Binomial()).fit()"
   ]
  },
  {
   "cell_type": "code",
   "execution_count": 76,
   "metadata": {},
   "outputs": [
    {
     "name": "stdout",
     "output_type": "stream",
     "text": [
      "                      Generalized Linear Model Regression Results                       \n",
      "========================================================================================\n",
      "Dep. Variable:     ['sex[Female]', 'sex[Male]']   No. Observations:                  168\n",
      "Model:                                      GLM   Df Residuals:                      161\n",
      "Model Family:                          Binomial   Df Model:                            6\n",
      "Link Function:                            logit   Scale:                          1.0000\n",
      "Method:                                    IRLS   Log-Likelihood:                -52.236\n",
      "Date:                          Tue, 17 Dec 2019   Deviance:                       104.47\n",
      "Time:                                  13:58:39   Pearson chi2:                     646.\n",
      "No. Iterations:                               6                                         \n",
      "Covariance Type:                      nonrobust                                         \n",
      "==============================================================================\n",
      "                 coef    std err          z      P>|z|      [0.025      0.975]\n",
      "------------------------------------------------------------------------------\n",
      "Intercept     49.5650      8.052      6.156      0.000      33.783      65.347\n",
      "w[T.Right]     0.0766      1.112      0.069      0.945      -2.104       2.257\n",
      "wr             0.7649      0.591      1.295      0.195      -0.393       1.923\n",
      "nw            -1.5121      0.619     -2.442      0.015      -2.726      -0.298\n",
      "pulse          0.0100      0.022      0.461      0.645      -0.033       0.053\n",
      "height        -0.2123      0.045     -4.746      0.000      -0.300      -0.125\n",
      "age        -6.183e-05      0.044     -0.001      0.999      -0.087       0.087\n",
      "==============================================================================\n"
     ]
    }
   ],
   "source": [
    "print (model.summary())"
   ]
  },
  {
   "cell_type": "code",
   "execution_count": 77,
   "metadata": {},
   "outputs": [
    {
     "name": "stdout",
     "output_type": "stream",
     "text": [
      "                      Generalized Linear Model Regression Results                       \n",
      "========================================================================================\n",
      "Dep. Variable:     ['sex[Female]', 'sex[Male]']   No. Observations:                  207\n",
      "Model:                                      GLM   Df Residuals:                      204\n",
      "Model Family:                          Binomial   Df Model:                            2\n",
      "Link Function:                            logit   Scale:                          1.0000\n",
      "Method:                                    IRLS   Log-Likelihood:                -67.329\n",
      "Date:                          Tue, 17 Dec 2019   Deviance:                       134.66\n",
      "Time:                                  13:59:00   Pearson chi2:                     468.\n",
      "No. Iterations:                               6                                         \n",
      "Covariance Type:                      nonrobust                                         \n",
      "==============================================================================\n",
      "                 coef    std err          z      P>|z|      [0.025      0.975]\n",
      "------------------------------------------------------------------------------\n",
      "Intercept     49.1014      6.919      7.097      0.000      35.541      62.662\n",
      "nw            -0.8189      0.188     -4.358      0.000      -1.187      -0.451\n",
      "height        -0.1977      0.038     -5.241      0.000      -0.272      -0.124\n",
      "==============================================================================\n"
     ]
    }
   ],
   "source": [
    "formula2='sex ~ nw+height'\n",
    "model2=smf.glm(formula2,data=mass.data,family=sm.families.Binomial()).fit()\n",
    "print (model2.summary())"
   ]
  },
  {
   "cell_type": "markdown",
   "metadata": {},
   "source": [
    "## 문제: Titanic case\n",
    "\n",
    "1912년 4월 15일 Titanic 유람선 사고의 탑승객 2224명의 승객 및 선원 가운데 1502명이 사망했다. 사고 당시의 탑승객 위치, 상황 등 관련 데이터를 분석하여 생존 여부를 예측하자. 출처: Kaggle"
   ]
  },
  {
   "cell_type": "markdown",
   "metadata": {},
   "source": [
    "### 데이터 받기"
   ]
  },
  {
   "cell_type": "code",
   "execution_count": 59,
   "metadata": {},
   "outputs": [
    {
     "name": "stdout",
     "output_type": "stream",
     "text": [
      " C 드라이브의 볼륨에는 이름이 없습니다.\n",
      " 볼륨 일련 번호: 7CEE-EB99\n",
      "\n",
      " C:\\Users\\user\\MyStudySpace\\2019-2\\BigData_Spark\\src 디렉터리\n",
      "\n",
      "2019-11-26  오후 05:11    <DIR>          .\n",
      "2019-11-26  오후 05:11    <DIR>          ..\n",
      "2019-11-26  오후 03:09    <DIR>          .ipynb_checkpoints\n",
      "2019-10-31  오후 07:54            30,845 191029_Assignment.ipynb\n",
      "2019-10-29  오후 05:15            94,642 201710776Test.ipynb\n",
      "2019-11-26  오후 05:20    <DIR>          data\n",
      "2019-10-22  오후 01:53            58,961 ds3_sparkRDD.ipynb\n",
      "2019-10-22  오후 02:45            29,832 ds4_sparkDF.ipynb\n",
      "2019-11-12  오후 04:27           116,996 ds5_sparkTran.ipynb\n",
      "2019-11-19  오후 05:49         1,207,870 ds7_regression.ipynb\n",
      "2019-11-26  오후 05:11           274,870 ds9_LogisticRegression.ipynb\n",
      "2019-10-15  오후 07:37             5,132 spark_df.ipynb\n",
      "2019-10-21  오후 06:04             1,877 Start_Spark.ipynb\n",
      "2019-10-22  오후 01:35    <DIR>          sub\n",
      "               9개 파일           1,821,025 바이트\n",
      "               5개 디렉터리  18,652,282,880 바이트 남음\n"
     ]
    }
   ],
   "source": [
    "!dir"
   ]
  },
  {
   "cell_type": "code",
   "execution_count": 63,
   "metadata": {},
   "outputs": [
    {
     "name": "stdout",
     "output_type": "stream",
     "text": [
      " C 드라이브의 볼륨에는 이름이 없습니다.\n",
      " 볼륨 일련 번호: 7CEE-EB99\n",
      "\n",
      " C:\\Users\\user\\MyStudySpace\\2019-2\\BigData_Spark\\src\\data\\kaggle\\titanic 디렉터리\n",
      "\n",
      "2019-11-26  오후 05:20    <DIR>          .\n",
      "2019-11-26  오후 05:20    <DIR>          ..\n",
      "2018-04-09  오전 05:33            28,629 test.csv\n",
      "2018-04-09  오전 05:33            61,194 train.csv\n",
      "               2개 파일              89,823 바이트\n",
      "               2개 디렉터리  18,651,701,248 바이트 남음\n"
     ]
    }
   ],
   "source": [
    "!dir \"data/kaggle/titanic/\""
   ]
  },
  {
   "cell_type": "markdown",
   "metadata": {},
   "source": [
    "### 파일 읽기"
   ]
  },
  {
   "cell_type": "code",
   "execution_count": 80,
   "metadata": {},
   "outputs": [],
   "source": [
    "import os\n",
    "_trainDf = spark.read.format('com.databricks.spark.csv')\\\n",
    "    .options(header='true', inferschema='true')\\\n",
    "    .load(os.path.join(\"data\",\"kaggle\",\"titanic\",\"train.csv\"))"
   ]
  },
  {
   "cell_type": "code",
   "execution_count": 81,
   "metadata": {},
   "outputs": [
    {
     "name": "stdout",
     "output_type": "stream",
     "text": [
      "+-----------+--------+------+--------------------+------+----+-----+-----+----------------+-------+-----+--------+\n",
      "|PassengerId|Survived|Pclass|                Name|   Sex| Age|SibSp|Parch|          Ticket|   Fare|Cabin|Embarked|\n",
      "+-----------+--------+------+--------------------+------+----+-----+-----+----------------+-------+-----+--------+\n",
      "|          1|       0|     3|Braund, Mr. Owen ...|  male|22.0|    1|    0|       A/5 21171|   7.25|     |       S|\n",
      "|          2|       1|     1|Cumings, Mrs. Joh...|female|38.0|    1|    0|        PC 17599|71.2833|  C85|       C|\n",
      "|          3|       1|     3|Heikkinen, Miss. ...|female|26.0|    0|    0|STON/O2. 3101282|  7.925|     |       S|\n",
      "+-----------+--------+------+--------------------+------+----+-----+-----+----------------+-------+-----+--------+\n",
      "only showing top 3 rows\n",
      "\n"
     ]
    }
   ],
   "source": [
    "_trainDf.show(3, truncate=True)"
   ]
  },
  {
   "cell_type": "code",
   "execution_count": 82,
   "metadata": {},
   "outputs": [],
   "source": [
    "_testDf = spark.read.format('com.databricks.spark.csv')\\\n",
    "    .options(header='true', inferschema='true')\\\n",
    "    .load(os.path.join(\"data\",\"kaggle\",\"titanic\",\"test.csv\"))"
   ]
  },
  {
   "cell_type": "code",
   "execution_count": 83,
   "metadata": {},
   "outputs": [
    {
     "name": "stdout",
     "output_type": "stream",
     "text": [
      "+-----------+------+--------------------+------+----+-----+-----+------+------+-----+--------+\n",
      "|PassengerId|Pclass|                Name|   Sex| Age|SibSp|Parch|Ticket|  Fare|Cabin|Embarked|\n",
      "+-----------+------+--------------------+------+----+-----+-----+------+------+-----+--------+\n",
      "|        892|     3|    Kelly, Mr. James|  male|34.5|    0|    0|330911|7.8292|     |       Q|\n",
      "|        893|     3|Wilkes, Mrs. Jame...|female|47.0|    1|    0|363272|   7.0|     |       S|\n",
      "|        894|     2|Myles, Mr. Thomas...|  male|62.0|    0|    0|240276|9.6875|     |       Q|\n",
      "+-----------+------+--------------------+------+----+-----+-----+------+------+-----+--------+\n",
      "only showing top 3 rows\n",
      "\n"
     ]
    }
   ],
   "source": [
    "_testDf.show(3, truncate=True)"
   ]
  },
  {
   "cell_type": "markdown",
   "metadata": {},
   "source": [
    "### train, test 파일 합치기"
   ]
  },
  {
   "cell_type": "code",
   "execution_count": 84,
   "metadata": {},
   "outputs": [],
   "source": [
    "# 새로운 컬럼 생성\n",
    "from pyspark.sql.functions import lit, col\n",
    "_trainDf = _trainDf.withColumn('testOrtrain',lit('train'))\n",
    "_testDf = _testDf.withColumn('testOrtrain',lit('test'))"
   ]
  },
  {
   "cell_type": "code",
   "execution_count": 85,
   "metadata": {},
   "outputs": [],
   "source": [
    "_testDf = _testDf.withColumn('Survived',lit(99))"
   ]
  },
  {
   "cell_type": "code",
   "execution_count": 86,
   "metadata": {},
   "outputs": [
    {
     "name": "stdout",
     "output_type": "stream",
     "text": [
      "root\n",
      " |-- PassengerId: integer (nullable = true)\n",
      " |-- Survived: integer (nullable = true)\n",
      " |-- Pclass: integer (nullable = true)\n",
      " |-- Name: string (nullable = true)\n",
      " |-- Sex: string (nullable = true)\n",
      " |-- Age: double (nullable = true)\n",
      " |-- SibSp: integer (nullable = true)\n",
      " |-- Parch: integer (nullable = true)\n",
      " |-- Ticket: string (nullable = true)\n",
      " |-- Fare: double (nullable = true)\n",
      " |-- Cabin: string (nullable = true)\n",
      " |-- Embarked: string (nullable = true)\n",
      " |-- testOrtrain: string (nullable = false)\n",
      "\n"
     ]
    }
   ],
   "source": [
    "_trainDf.printSchema()"
   ]
  },
  {
   "cell_type": "code",
   "execution_count": 87,
   "metadata": {},
   "outputs": [
    {
     "name": "stdout",
     "output_type": "stream",
     "text": [
      "root\n",
      " |-- PassengerId: integer (nullable = true)\n",
      " |-- Pclass: integer (nullable = true)\n",
      " |-- Name: string (nullable = true)\n",
      " |-- Sex: string (nullable = true)\n",
      " |-- Age: double (nullable = true)\n",
      " |-- SibSp: integer (nullable = true)\n",
      " |-- Parch: integer (nullable = true)\n",
      " |-- Ticket: string (nullable = true)\n",
      " |-- Fare: double (nullable = true)\n",
      " |-- Cabin: string (nullable = true)\n",
      " |-- Embarked: string (nullable = true)\n",
      " |-- testOrtrain: string (nullable = false)\n",
      " |-- Survived: integer (nullable = false)\n",
      "\n"
     ]
    }
   ],
   "source": [
    "_testDf.printSchema()"
   ]
  },
  {
   "cell_type": "markdown",
   "metadata": {},
   "source": [
    "두 DataFrame을 서로 합치려면 union 기능을 사용한다. \n",
    "두 DataFrame의 컬럼 수와 데이터타잎이 일치해야 한다. 순서가 다르더라도 그냥 합치는 것에 주의한다. 단 주의해야 할 점은, Sql의 union은 컬럼명을 고려하지 않고 컬럼수만 동일하면 합쳐준다."
   ]
  },
  {
   "cell_type": "code",
   "execution_count": 88,
   "metadata": {},
   "outputs": [],
   "source": [
    "# 합치려면 union\n",
    "df=_trainDf.select('PassengerId','Survived','Pclass','Name','Sex','Age',\\\n",
    "                   'SibSp','Parch','Ticket','Fare','Cabin','Embarked','testOrtrain')\\\n",
    "            .union(_testDf.select('PassengerId','Survived','Pclass','Name','Sex','Age',\\\n",
    "                   'SibSp','Parch','Ticket','Fare','Cabin','Embarked','testOrtrain'))"
   ]
  },
  {
   "cell_type": "code",
   "execution_count": 89,
   "metadata": {},
   "outputs": [
    {
     "name": "stdout",
     "output_type": "stream",
     "text": [
      "+-----------+--------+--------------------+\n",
      "|testOrtrain|Survived|                Name|\n",
      "+-----------+--------+--------------------+\n",
      "|       test|      99|    Kelly, Mr. James|\n",
      "|       test|      99|Wilkes, Mrs. Jame...|\n",
      "|       test|      99|Myles, Mr. Thomas...|\n",
      "|       test|      99|    Wirz, Mr. Albert|\n",
      "|       test|      99|Hirvonen, Mrs. Al...|\n",
      "|       test|      99|Svensson, Mr. Joh...|\n",
      "|       test|      99|Connolly, Miss. Kate|\n",
      "|       test|      99|Caldwell, Mr. Alb...|\n",
      "|       test|      99|Abrahim, Mrs. Jos...|\n",
      "|       test|      99|Davies, Mr. John ...|\n",
      "+-----------+--------+--------------------+\n",
      "only showing top 10 rows\n",
      "\n"
     ]
    }
   ],
   "source": [
    "df.select('testOrtrain','Survived','Name')\\\n",
    "    .filter(df['testOrtrain']=='test').show(10)"
   ]
  },
  {
   "cell_type": "code",
   "execution_count": 75,
   "metadata": {},
   "outputs": [
    {
     "name": "stdout",
     "output_type": "stream",
     "text": [
      "+-----------+-----+\n",
      "|testOrtrain|count|\n",
      "+-----------+-----+\n",
      "|      train|  891|\n",
      "|       test|  418|\n",
      "+-----------+-----+\n",
      "\n"
     ]
    }
   ],
   "source": [
    "df.groupBy(df.testOrtrain).count().show()"
   ]
  },
  {
   "cell_type": "markdown",
   "metadata": {},
   "source": [
    "### 미싱데이터 처리"
   ]
  },
  {
   "cell_type": "code",
   "execution_count": 90,
   "metadata": {},
   "outputs": [
    {
     "name": "stdout",
     "output_type": "stream",
     "text": [
      "+-----------+--------+------+----+----+----+-----+-----+------+----+-----+--------+-----------+\n",
      "|PassengerId|Survived|Pclass|Name| Sex| Age|SibSp|Parch|Ticket|Fare|Cabin|Embarked|testOrtrain|\n",
      "+-----------+--------+------+----+----+----+-----+-----+------+----+-----+--------+-----------+\n",
      "|       1309|    1309|  1309|1309|1309|1046| 1309| 1309|  1309|1308| 1309|    1309|       1309|\n",
      "+-----------+--------+------+----+----+----+-----+-----+------+----+-----+--------+-----------+\n",
      "\n"
     ]
    }
   ],
   "source": [
    "# alias = rename\n",
    "from pyspark.sql.functions import count\n",
    "df.agg(*[count(c).alias(c) for c in df.columns]).show()"
   ]
  },
  {
   "cell_type": "code",
   "execution_count": 91,
   "metadata": {},
   "outputs": [
    {
     "name": "stdout",
     "output_type": "stream",
     "text": [
      "{'Fare': 1, 'Age': 263, 'SibSp': 0, 'Survived': 0, 'Parch': 0}\n"
     ]
    }
   ],
   "source": [
    "# 결측값 확인 함수\n",
    "def countNull(df,var):\n",
    "    return df.where(df[var].isNull()).count()\n",
    "\n",
    "missing = {c: countNull(df,c) for c in ['Survived','Age','SibSp','Parch','Fare']}\n",
    "\n",
    "print missing"
   ]
  },
  {
   "cell_type": "code",
   "execution_count": 92,
   "metadata": {},
   "outputs": [
    {
     "name": "stdout",
     "output_type": "stream",
     "text": [
      "+-----------+--------+------+--------------------+------+----+-----+-----+------+------+-----+--------+-----------+\n",
      "|PassengerId|Survived|Pclass|                Name|   Sex| Age|SibSp|Parch|Ticket|  Fare|Cabin|Embarked|testOrtrain|\n",
      "+-----------+--------+------+--------------------+------+----+-----+-----+------+------+-----+--------+-----------+\n",
      "|          6|       0|     3|    Moran, Mr. James|  male|null|    0|    0|330877|8.4583|     |       Q|      train|\n",
      "|         18|       1|     2|Williams, Mr. Cha...|  male|null|    0|    0|244373|  13.0|     |       S|      train|\n",
      "|         20|       1|     3|Masselmani, Mrs. ...|female|null|    0|    0|  2649| 7.225|     |       C|      train|\n",
      "|         27|       0|     3|Emir, Mr. Farred ...|  male|null|    0|    0|  2631| 7.225|     |       C|      train|\n",
      "|         29|       1|     3|\"O'Dwyer, Miss. E...|female|null|    0|    0|330959|7.8792|     |       Q|      train|\n",
      "+-----------+--------+------+--------------------+------+----+-----+-----+------+------+-----+--------+-----------+\n",
      "only showing top 5 rows\n",
      "\n",
      "None\n"
     ]
    }
   ],
   "source": [
    "print df.filter(\"Age is NULL\").show(5)"
   ]
  },
  {
   "cell_type": "code",
   "execution_count": 93,
   "metadata": {},
   "outputs": [
    {
     "name": "stdout",
     "output_type": "stream",
     "text": [
      "+-----------+--------+------+------------------+----+----+-----+-----+------+----+-----+--------+-----------+\n",
      "|PassengerId|Survived|Pclass|              Name| Sex| Age|SibSp|Parch|Ticket|Fare|Cabin|Embarked|testOrtrain|\n",
      "+-----------+--------+------+------------------+----+----+-----+-----+------+----+-----+--------+-----------+\n",
      "|       1044|      99|     3|Storey, Mr. Thomas|male|60.5|    0|    0|  3701|null|     |       S|       test|\n",
      "+-----------+--------+------+------------------+----+----+-----+-----+------+----+-----+--------+-----------+\n",
      "\n",
      "None\n"
     ]
    }
   ],
   "source": [
    "print df.filter(\"Fare is NULL\").show(5)"
   ]
  },
  {
   "cell_type": "markdown",
   "metadata": {},
   "source": [
    "NULL값은 결측으로 제외하거나 또는 평균으로 대체하거나 한다. 퍙균을 계산하기 위해, pyspark.sql.functions의 함수 가운데 avg()를 사용한다. collect()의 결과는 Python List이므로, 반환 값의 index '0'으로 평균값을 구할 수 있다."
   ]
  },
  {
   "cell_type": "code",
   "execution_count": 94,
   "metadata": {},
   "outputs": [
    {
     "name": "stdout",
     "output_type": "stream",
     "text": [
      "29.8811376673\n",
      "33.2954792813\n"
     ]
    }
   ],
   "source": [
    "from pyspark.sql import functions as F\n",
    "\n",
    "avgAge=df.agg(F.avg(df['Age']).alias('meanAge')).collect()\n",
    "avgFare=df.agg(F.avg(df['Fare']).alias('meanFare')).collect()\n",
    "\n",
    "print avgAge[0]['meanAge']\n",
    "print avgFare[0]['meanFare']"
   ]
  },
  {
   "cell_type": "code",
   "execution_count": 99,
   "metadata": {},
   "outputs": [
    {
     "name": "stdout",
     "output_type": "stream",
     "text": [
      "Row(avg(Age)=29.881137667304014)\n",
      "Row(avg(Fare)=33.29547928134553)\n"
     ]
    }
   ],
   "source": [
    "# 그룹바이 후 평균 구하기\n",
    "print df.groupBy().mean('Age').first()\n",
    "print df.groupBy().mean('Fare').first()"
   ]
  },
  {
   "cell_type": "code",
   "execution_count": 100,
   "metadata": {},
   "outputs": [
    {
     "name": "stdout",
     "output_type": "stream",
     "text": [
      "+-------+------------------+\n",
      "|summary|               Age|\n",
      "+-------+------------------+\n",
      "|  count|              1046|\n",
      "|   mean|29.881137667304014|\n",
      "| stddev| 14.41349321127132|\n",
      "|    min|              0.17|\n",
      "|    max|              80.0|\n",
      "+-------+------------------+\n",
      "\n"
     ]
    }
   ],
   "source": [
    "df.describe(['Age']).show()"
   ]
  },
  {
   "cell_type": "code",
   "execution_count": 101,
   "metadata": {},
   "outputs": [
    {
     "name": "stdout",
     "output_type": "stream",
     "text": [
      "+----+\n",
      "|year|\n",
      "+----+\n",
      "|2019|\n",
      "|2020|\n",
      "|2021|\n",
      "|9999|\n",
      "+----+\n",
      "\n"
     ]
    }
   ],
   "source": [
    "# 필터 사용\n",
    "my = spark.createDataFrame([[2019], [2020], [2021], [None]], ['year'])\n",
    "my = my.fillna({'year':'9999'})\n",
    "my.show()"
   ]
  },
  {
   "cell_type": "code",
   "execution_count": 102,
   "metadata": {},
   "outputs": [],
   "source": [
    "from pyspark.sql.functions import when,isnull\n",
    "df=df.withColumn(\"Age\", when(isnull(df['Age']), avgAge[0]['meanAge']).otherwise(df.Age))\n",
    "df=df.withColumn(\"Fare\", when(isnull(df['Fare']), avgFare[0]['meanFare']).otherwise(df.Fare))\n",
    "#df.show(10)"
   ]
  },
  {
   "cell_type": "markdown",
   "metadata": {},
   "source": [
    "### outlier\n",
    "approxQuantile(변수명, 분기비율, 상대오류)는 outlier가 있는지 확인할 수 있다."
   ]
  },
  {
   "cell_type": "code",
   "execution_count": 103,
   "metadata": {},
   "outputs": [
    {
     "name": "stdout",
     "output_type": "stream",
     "text": [
      "[22.0, 35.0]\n"
     ]
    }
   ],
   "source": [
    "quantiles=df.stat.approxQuantile('Age', [0.25,0.75], 0.0 )\n",
    "print quantiles"
   ]
  },
  {
   "cell_type": "code",
   "execution_count": 104,
   "metadata": {},
   "outputs": [
    {
     "name": "stdout",
     "output_type": "stream",
     "text": [
      "7.05 61.0\n"
     ]
    }
   ],
   "source": [
    "mid50 = quantiles[1]-quantiles[0]\n",
    "lower = quantiles[0] - 1.15*mid50\n",
    "upper = quantiles[1] + 2.0*mid50\n",
    "print lower, upper"
   ]
  },
  {
   "cell_type": "code",
   "execution_count": 105,
   "metadata": {},
   "outputs": [
    {
     "name": "stdout",
     "output_type": "stream",
     "text": [
      "+-----------+--------+------+--------------------+------+---+-----+-----+-------+------+-----+--------+-----------+\n",
      "|PassengerId|Survived|Pclass|                Name|   Sex|Age|SibSp|Parch| Ticket|  Fare|Cabin|Embarked|testOrtrain|\n",
      "+-----------+--------+------+--------------------+------+---+-----+-----+-------+------+-----+--------+-----------+\n",
      "|          8|       0|     3|Palsson, Master. ...|  male|2.0|    3|    1| 349909|21.075|     |       S|      train|\n",
      "|         11|       1|     3|Sandstrom, Miss. ...|female|4.0|    1|    1|PP 9549|  16.7|   G6|       S|      train|\n",
      "|         17|       0|     3|Rice, Master. Eugene|  male|2.0|    4|    1| 382652|29.125|     |       Q|      train|\n",
      "+-----------+--------+------+--------------------+------+---+-----+-----+-------+------+-----+--------+-----------+\n",
      "only showing top 3 rows\n",
      "\n"
     ]
    }
   ],
   "source": [
    "df.filter((df.Age<lower) | (df.Age>upper)).show(3,truncate=True)"
   ]
  },
  {
   "cell_type": "code",
   "execution_count": 106,
   "metadata": {},
   "outputs": [
    {
     "name": "stdout",
     "output_type": "stream",
     "text": [
      "+------+-----+\n",
      "|   Sex|count|\n",
      "+------+-----+\n",
      "|female|  466|\n",
      "|  male|  843|\n",
      "+------+-----+\n",
      "\n"
     ]
    }
   ],
   "source": [
    "df.groupBy('Sex').count().show()"
   ]
  },
  {
   "cell_type": "markdown",
   "metadata": {},
   "source": [
    "이름으로부터 패턴을 찾아 성별을 구분"
   ]
  },
  {
   "cell_type": "code",
   "execution_count": 90,
   "metadata": {},
   "outputs": [],
   "source": [
    "import re\n",
    "def getTitle(name):\n",
    "    title=None\n",
    "    if re.search(\".*Mr\\..*\", name):\n",
    "        title=\"male\"\n",
    "    elif re.search(\".*[Miss|Mrs|Ms]\\..*\", name):\n",
    "        title=\"female\"\n",
    "    return title"
   ]
  },
  {
   "cell_type": "code",
   "execution_count": 91,
   "metadata": {},
   "outputs": [
    {
     "name": "stdout",
     "output_type": "stream",
     "text": [
      "male\n",
      "female\n",
      "female\n",
      "female\n",
      "None\n"
     ]
    }
   ],
   "source": [
    "names=[\"Braund, Mr. Owen Harris\",\n",
    "       \"Cumings, Mrs. John Bradley (Florence Briggs Thayer)\",\n",
    "       \"Heikkinen, Miss. Laina\",\n",
    "       \"Ms.hello\",\n",
    "       \"No title\"]\n",
    "for n in names:\n",
    "    print getTitle(n)"
   ]
  },
  {
   "cell_type": "code",
   "execution_count": 92,
   "metadata": {},
   "outputs": [],
   "source": [
    "from pyspark.sql.functions import udf\n",
    "from pyspark.sql.types import StringType\n",
    "\n",
    "getTitleUdf = udf(getTitle, StringType())\n",
    "df = df.withColumn('Title', getTitleUdf(df['Name']))"
   ]
  },
  {
   "cell_type": "code",
   "execution_count": 93,
   "metadata": {},
   "outputs": [
    {
     "name": "stdout",
     "output_type": "stream",
     "text": [
      "+-----------+--------------------------------------------+------+------+\n",
      "|testOrtrain|Name                                        |Title |Sex   |\n",
      "+-----------+--------------------------------------------+------+------+\n",
      "|test       |Kelly, Mr. James                            |male  |male  |\n",
      "|test       |Wilkes, Mrs. James (Ellen Needs)            |female|female|\n",
      "|test       |Myles, Mr. Thomas Francis                   |male  |male  |\n",
      "|test       |Wirz, Mr. Albert                            |male  |male  |\n",
      "|test       |Hirvonen, Mrs. Alexander (Helga E Lindqvist)|female|female|\n",
      "|test       |Svensson, Mr. Johan Cervin                  |male  |male  |\n",
      "|test       |Connolly, Miss. Kate                        |female|female|\n",
      "|test       |Caldwell, Mr. Albert Francis                |male  |male  |\n",
      "|test       |Abrahim, Mrs. Joseph (Sophie Halaut Easu)   |female|female|\n",
      "|test       |Davies, Mr. John Samuel                     |male  |male  |\n",
      "+-----------+--------------------------------------------+------+------+\n",
      "only showing top 10 rows\n",
      "\n"
     ]
    }
   ],
   "source": [
    " df.select('testOrtrain','Name','Title','Sex')\\\n",
    "    .filter(df['testOrtrain']=='test')\\\n",
    "    .show(10,truncate=False)"
   ]
  },
  {
   "cell_type": "code",
   "execution_count": 94,
   "metadata": {},
   "outputs": [
    {
     "name": "stdout",
     "output_type": "stream",
     "text": [
      "+------+-----+\n",
      "| Title|count|\n",
      "+------+-----+\n",
      "|  null|   19|\n",
      "|female|  533|\n",
      "|  male|  757|\n",
      "+------+-----+\n",
      "\n",
      "+------+-----+\n",
      "|   Sex|count|\n",
      "+------+-----+\n",
      "|female|  466|\n",
      "|  male|  843|\n",
      "+------+-----+\n",
      "\n"
     ]
    }
   ],
   "source": [
    "df.groupBy('Title').count().show()\n",
    "df.groupBy('Sex').count().show()"
   ]
  },
  {
   "cell_type": "code",
   "execution_count": 95,
   "metadata": {},
   "outputs": [
    {
     "name": "stdout",
     "output_type": "stream",
     "text": [
      "root\n",
      " |-- PassengerId: integer (nullable = true)\n",
      " |-- Survived: integer (nullable = true)\n",
      " |-- Pclass: integer (nullable = true)\n",
      " |-- Name: string (nullable = true)\n",
      " |-- Sex: string (nullable = true)\n",
      " |-- Age: double (nullable = true)\n",
      " |-- SibSp: integer (nullable = true)\n",
      " |-- Parch: integer (nullable = true)\n",
      " |-- Ticket: string (nullable = true)\n",
      " |-- Fare: double (nullable = true)\n",
      " |-- Cabin: string (nullable = true)\n",
      " |-- Embarked: string (nullable = true)\n",
      " |-- testOrtrain: string (nullable = false)\n",
      " |-- Title: string (nullable = true)\n",
      "\n"
     ]
    }
   ],
   "source": [
    "df.printSchema()"
   ]
  },
  {
   "cell_type": "markdown",
   "metadata": {},
   "source": [
    "### label, features"
   ]
  },
  {
   "cell_type": "code",
   "execution_count": 107,
   "metadata": {},
   "outputs": [],
   "source": [
    "# cast로 형변환\n",
    "df=df.withColumn(\"SurvivedD\",_trainDf['Survived']\\\n",
    "    .cast(\"double\"))\\\n",
    "    .drop('Survived')"
   ]
  },
  {
   "cell_type": "code",
   "execution_count": 108,
   "metadata": {},
   "outputs": [
    {
     "name": "stdout",
     "output_type": "stream",
     "text": [
      "+---------+-----+\n",
      "|SurvivedD|count|\n",
      "+---------+-----+\n",
      "|      0.0|  549|\n",
      "|      1.0|  342|\n",
      "|     99.0|  418|\n",
      "+---------+-----+\n",
      "\n"
     ]
    }
   ],
   "source": [
    "df.groupBy('SurvivedD').count().show()"
   ]
  },
  {
   "cell_type": "code",
   "execution_count": 109,
   "metadata": {},
   "outputs": [
    {
     "name": "stdout",
     "output_type": "stream",
     "text": [
      "+-----------+------+--------------------+------+----+-----+-----+----------------+-------+-----+--------+-----------+---------+\n",
      "|PassengerId|Pclass|                Name|   Sex| Age|SibSp|Parch|          Ticket|   Fare|Cabin|Embarked|testOrtrain|SurvivedD|\n",
      "+-----------+------+--------------------+------+----+-----+-----+----------------+-------+-----+--------+-----------+---------+\n",
      "|          1|     3|Braund, Mr. Owen ...|  male|22.0|    1|    0|       A/5 21171|   7.25|     |       S|      train|      0.0|\n",
      "|          2|     1|Cumings, Mrs. Joh...|female|38.0|    1|    0|        PC 17599|71.2833|  C85|       C|      train|      1.0|\n",
      "|          3|     3|Heikkinen, Miss. ...|female|26.0|    0|    0|STON/O2. 3101282|  7.925|     |       S|      train|      1.0|\n",
      "|          4|     1|Futrelle, Mrs. Ja...|female|35.0|    1|    0|          113803|   53.1| C123|       S|      train|      1.0|\n",
      "|          5|     3|Allen, Mr. Willia...|  male|35.0|    0|    0|          373450|   8.05|     |       S|      train|      0.0|\n",
      "+-----------+------+--------------------+------+----+-----+-----+----------------+-------+-----+--------+-----------+---------+\n",
      "only showing top 5 rows\n",
      "\n"
     ]
    }
   ],
   "source": [
    "df.show(5, truncate=True)"
   ]
  },
  {
   "cell_type": "code",
   "execution_count": 110,
   "metadata": {},
   "outputs": [],
   "source": [
    "# StringIndexer로 변환\n",
    "from pyspark.ml.feature import StringIndexer\n",
    "from pyspark.ml import Pipeline\n",
    "#from pyspark.ml.linalg import Vectors\n",
    "from pyspark.ml.feature import VectorAssembler\n",
    "\n",
    "SexIndexer = StringIndexer(inputCol=\"Sex\", outputCol=\"SexI\")\n",
    "EmbarkedIndexer = StringIndexer(inputCol=\"Embarked\", outputCol=\"EmbarkedI\")\n",
    "\n",
    "#PclassIndexer = StringIndexer(inputCol=\"Pclass\", outputCol=\"SexI\")\n"
   ]
  },
  {
   "cell_type": "code",
   "execution_count": 111,
   "metadata": {},
   "outputs": [],
   "source": [
    "# features 컬럼을 만들어 준다.\n",
    "va = VectorAssembler(inputCols=[\"Pclass\",\"SexI\",\"Age\",\"SibSp\",\"Parch\",\\\n",
    "                                \"Fare\",\"EmbarkedI\"],\\\n",
    "                     outputCol=\"features\")\n",
    "#pipeline = Pipeline(stages=[PclassIndexer,SexIndexer,ParchIndexer,\\\n",
    "#                            FareIndexer,EmbarkedIndexer,va])"
   ]
  },
  {
   "cell_type": "code",
   "execution_count": 112,
   "metadata": {},
   "outputs": [],
   "source": [
    "# pipeline으로 구성해서 fit() 을 실행\n",
    "pipeline = Pipeline(stages=[SexIndexer,EmbarkedIndexer,va])\n",
    "model = pipeline.fit(df)"
   ]
  },
  {
   "cell_type": "markdown",
   "metadata": {},
   "source": [
    "### train, test"
   ]
  },
  {
   "cell_type": "code",
   "execution_count": 113,
   "metadata": {},
   "outputs": [],
   "source": [
    "myDf = model.transform(df)"
   ]
  },
  {
   "cell_type": "code",
   "execution_count": 114,
   "metadata": {},
   "outputs": [
    {
     "name": "stdout",
     "output_type": "stream",
     "text": [
      "+---------+--------------------+\n",
      "|SurvivedD|            features|\n",
      "+---------+--------------------+\n",
      "|      0.0|[3.0,0.0,22.0,1.0...|\n",
      "|      1.0|[1.0,1.0,38.0,1.0...|\n",
      "|      1.0|[3.0,1.0,26.0,0.0...|\n",
      "|      1.0|[1.0,1.0,35.0,1.0...|\n",
      "|      0.0|(7,[0,2,5],[3.0,3...|\n",
      "|      0.0|[3.0,0.0,29.88113...|\n",
      "|      0.0|(7,[0,2,5],[1.0,5...|\n",
      "|      0.0|[3.0,0.0,2.0,3.0,...|\n",
      "|      1.0|[3.0,1.0,27.0,0.0...|\n",
      "|      1.0|[2.0,1.0,14.0,1.0...|\n",
      "+---------+--------------------+\n",
      "only showing top 10 rows\n",
      "\n"
     ]
    }
   ],
   "source": [
    "myDf.select('SurvivedD','features').show(10)"
   ]
  },
  {
   "cell_type": "code",
   "execution_count": 115,
   "metadata": {},
   "outputs": [
    {
     "name": "stdout",
     "output_type": "stream",
     "text": [
      "all num of rows:  1309\n"
     ]
    }
   ],
   "source": [
    "print \"all num of rows: \",myDf.count()"
   ]
  },
  {
   "cell_type": "code",
   "execution_count": 116,
   "metadata": {},
   "outputs": [
    {
     "data": {
      "text/plain": [
       "891"
      ]
     },
     "execution_count": 116,
     "metadata": {},
     "output_type": "execute_result"
    }
   ],
   "source": [
    "train=myDf.filter(myDf['testOrtrain']=='train')\n",
    "testDf=myDf.filter(myDf['testOrtrain']=='test')\n",
    "\n",
    "train.count()"
   ]
  },
  {
   "cell_type": "code",
   "execution_count": 117,
   "metadata": {},
   "outputs": [
    {
     "name": "stdout",
     "output_type": "stream",
     "text": [
      "test num of rows:  418\n"
     ]
    }
   ],
   "source": [
    "print 'test num of rows: ',testDf.count()"
   ]
  },
  {
   "cell_type": "code",
   "execution_count": 118,
   "metadata": {},
   "outputs": [],
   "source": [
    "trainDf,validateDf = train.randomSplit([0.7,0.3],seed=11)"
   ]
  },
  {
   "cell_type": "code",
   "execution_count": 119,
   "metadata": {},
   "outputs": [
    {
     "data": {
      "text/plain": [
       "628"
      ]
     },
     "execution_count": 119,
     "metadata": {},
     "output_type": "execute_result"
    }
   ],
   "source": [
    "trainDf.count()"
   ]
  },
  {
   "cell_type": "code",
   "execution_count": 120,
   "metadata": {},
   "outputs": [
    {
     "data": {
      "text/plain": [
       "263"
      ]
     },
     "execution_count": 120,
     "metadata": {},
     "output_type": "execute_result"
    }
   ],
   "source": [
    "validateDf.count()"
   ]
  },
  {
   "cell_type": "code",
   "execution_count": 121,
   "metadata": {},
   "outputs": [
    {
     "name": "stdout",
     "output_type": "stream",
     "text": [
      "root\n",
      " |-- PassengerId: integer (nullable = true)\n",
      " |-- Pclass: integer (nullable = true)\n",
      " |-- Name: string (nullable = true)\n",
      " |-- Sex: string (nullable = true)\n",
      " |-- Age: double (nullable = true)\n",
      " |-- SibSp: integer (nullable = true)\n",
      " |-- Parch: integer (nullable = true)\n",
      " |-- Ticket: string (nullable = true)\n",
      " |-- Fare: double (nullable = true)\n",
      " |-- Cabin: string (nullable = true)\n",
      " |-- Embarked: string (nullable = true)\n",
      " |-- testOrtrain: string (nullable = false)\n",
      " |-- SurvivedD: double (nullable = true)\n",
      " |-- SexI: double (nullable = true)\n",
      " |-- EmbarkedI: double (nullable = true)\n",
      " |-- features: vector (nullable = true)\n",
      "\n"
     ]
    }
   ],
   "source": [
    "trainDf.printSchema()"
   ]
  },
  {
   "cell_type": "markdown",
   "metadata": {},
   "source": [
    "### LogisticRegression 모델링\n",
    "SurvivedD는 0,1의 이진값을 가지므로, 이진분류 모델을 만들기"
   ]
  },
  {
   "cell_type": "code",
   "execution_count": 122,
   "metadata": {},
   "outputs": [
    {
     "name": "stdout",
     "output_type": "stream",
     "text": [
      "+---------+-----+\n",
      "|SurvivedD|count|\n",
      "+---------+-----+\n",
      "|      0.0|  383|\n",
      "|      1.0|  245|\n",
      "+---------+-----+\n",
      "\n"
     ]
    }
   ],
   "source": [
    "trainDf.groupBy('SurvivedD').count().show()"
   ]
  },
  {
   "cell_type": "code",
   "execution_count": 123,
   "metadata": {},
   "outputs": [],
   "source": [
    "from pyspark.ml.classification import LogisticRegression\n",
    " \n",
    "# regPara: lasso regularisation parameter (L1)\n",
    "lr = LogisticRegression().\\\n",
    "    setLabelCol('SurvivedD').\\\n",
    "    setFeaturesCol('features').\\\n",
    "    setRegParam(0.0).\\\n",
    "    setMaxIter(100).\\\n",
    "    setElasticNetParam(0.)"
   ]
  },
  {
   "cell_type": "code",
   "execution_count": 124,
   "metadata": {},
   "outputs": [],
   "source": [
    "lrModel=lr.fit(trainDf)"
   ]
  },
  {
   "cell_type": "markdown",
   "metadata": {},
   "source": [
    "### 예측"
   ]
  },
  {
   "cell_type": "code",
   "execution_count": 125,
   "metadata": {},
   "outputs": [],
   "source": [
    "lrDf = lrModel.transform(validateDf)"
   ]
  },
  {
   "cell_type": "code",
   "execution_count": 126,
   "metadata": {},
   "outputs": [
    {
     "name": "stdout",
     "output_type": "stream",
     "text": [
      "root\n",
      " |-- PassengerId: integer (nullable = true)\n",
      " |-- Pclass: integer (nullable = true)\n",
      " |-- Name: string (nullable = true)\n",
      " |-- Sex: string (nullable = true)\n",
      " |-- Age: double (nullable = true)\n",
      " |-- SibSp: integer (nullable = true)\n",
      " |-- Parch: integer (nullable = true)\n",
      " |-- Ticket: string (nullable = true)\n",
      " |-- Fare: double (nullable = true)\n",
      " |-- Cabin: string (nullable = true)\n",
      " |-- Embarked: string (nullable = true)\n",
      " |-- testOrtrain: string (nullable = false)\n",
      " |-- SurvivedD: double (nullable = true)\n",
      " |-- SexI: double (nullable = true)\n",
      " |-- EmbarkedI: double (nullable = true)\n",
      " |-- features: vector (nullable = true)\n",
      " |-- rawPrediction: vector (nullable = true)\n",
      " |-- probability: vector (nullable = true)\n",
      " |-- prediction: double (nullable = true)\n",
      "\n"
     ]
    }
   ],
   "source": [
    "lrDf.printSchema()"
   ]
  },
  {
   "cell_type": "code",
   "execution_count": 127,
   "metadata": {},
   "outputs": [
    {
     "name": "stdout",
     "output_type": "stream",
     "text": [
      "+---------+--------------------+--------------------+----------+\n",
      "|SurvivedD|       rawPrediction|         probability|prediction|\n",
      "+---------+--------------------+--------------------+----------+\n",
      "|      1.0|[-0.7209575821080...|[0.32718215168700...|       1.0|\n",
      "|      1.0|[-2.0503227895482...|[0.11401976925515...|       1.0|\n",
      "|      1.0|[-1.9554360708280...|[0.12396181876919...|       1.0|\n",
      "|      1.0|[-1.1467078201107...|[0.24109092679847...|       1.0|\n",
      "|      1.0|[-1.4698503211520...|[0.18696536548151...|       1.0|\n",
      "|      0.0|[1.69472254018706...|[0.84484421073581...|       0.0|\n",
      "|      1.0|[1.26032179504787...|[0.77908149803135...|       0.0|\n",
      "|      1.0|[-1.4501313540239...|[0.18998135132665...|       1.0|\n",
      "|      1.0|[-0.0619658876835...|[0.48451348315217...|       1.0|\n",
      "|      0.0|[2.56037173163627...|[0.92826721424349...|       0.0|\n",
      "|      1.0|[-0.8920008140330...|[0.29069710229074...|       1.0|\n",
      "|      0.0|[-1.2464028691324...|[0.22332344045916...|       1.0|\n",
      "|      0.0|[1.95032687007954...|[0.87548227929311...|       0.0|\n",
      "|      1.0|[-0.8497256926713...|[0.29949040291388...|       1.0|\n",
      "|      0.0|[-0.6189589760433...|[0.35001825308221...|       1.0|\n",
      "|      0.0|[1.73615921896138...|[0.85019855753063...|       0.0|\n",
      "|      0.0|[3.56369823671166...|[0.97244684148754...|       0.0|\n",
      "|      0.0|[0.86690971886304...|[0.70410226817396...|       0.0|\n",
      "|      1.0|[-1.5870055403151...|[0.16980561361907...|       1.0|\n",
      "|      1.0|[0.86052411729901...|[0.70277014583679...|       0.0|\n",
      "+---------+--------------------+--------------------+----------+\n",
      "only showing top 20 rows\n",
      "\n"
     ]
    }
   ],
   "source": [
    "lrDf.select('SurvivedD','rawPrediction','probability','prediction').show()"
   ]
  },
  {
   "cell_type": "markdown",
   "metadata": {},
   "source": [
    "## 평가"
   ]
  },
  {
   "cell_type": "code",
   "execution_count": 128,
   "metadata": {},
   "outputs": [],
   "source": [
    "from pyspark.ml.evaluation import BinaryClassificationEvaluator\n",
    "\n",
    "evaluator = BinaryClassificationEvaluator(rawPredictionCol = 'prediction',\\\n",
    "                                          labelCol='SurvivedD')"
   ]
  },
  {
   "cell_type": "code",
   "execution_count": 129,
   "metadata": {},
   "outputs": [
    {
     "data": {
      "text/plain": [
       "0.7919513103962241"
      ]
     },
     "execution_count": 129,
     "metadata": {},
     "output_type": "execute_result"
    }
   ],
   "source": [
    "evaluator.evaluate(lrDf)"
   ]
  },
  {
   "cell_type": "code",
   "execution_count": null,
   "metadata": {},
   "outputs": [],
   "source": []
  }
 ],
 "metadata": {
  "kernelspec": {
   "display_name": "Python 2",
   "language": "python",
   "name": "python2"
  },
  "language_info": {
   "codemirror_mode": {
    "name": "ipython",
    "version": 2
   },
   "file_extension": ".py",
   "mimetype": "text/x-python",
   "name": "python",
   "nbconvert_exporter": "python",
   "pygments_lexer": "ipython2",
   "version": "2.7.16"
  }
 },
 "nbformat": 4,
 "nbformat_minor": 2
}
