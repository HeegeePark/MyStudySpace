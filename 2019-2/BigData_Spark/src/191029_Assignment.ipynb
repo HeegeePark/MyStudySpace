{
 "cells": [
  {
   "cell_type": "code",
   "execution_count": 4,
   "metadata": {},
   "outputs": [],
   "source": [
    "import os\n",
    "import sys\n",
    "\n",
    "#home=os.path.expanduser(\"~\") # HOME이 설정되어 있지 않으면 expanduser('~')를 사용한다.\n",
    "#osn.environ[\"PYSPARK_PYTHON\"] = \"/usr/bin/python\"\n",
    "os.environ[\"SPARK_HOME\"]=os.path.join(os.path.expanduser(\"~\"),r\"C:\\Users\\user\\spark-2.0.0-bin-hadoop2.7\\spark-2.0.0-bin-hadoop2.7\")\n",
    "os.environ[\"PYLIB\"]=os.path.join(os.environ[\"SPARK_HOME\"],'python','lib')\n",
    "sys.path.insert(0,os.path.join(os.environ[\"PYLIB\"],'py4j-0.10.1-src.zip'))\n",
    "sys.path.insert(0,os.path.join(os.environ[\"PYLIB\"],'pyspark.zip'))"
   ]
  },
  {
   "cell_type": "code",
   "execution_count": 5,
   "metadata": {},
   "outputs": [],
   "source": [
    "import pyspark\n",
    "spark = pyspark.sql.SparkSession.builder\\\n",
    "    .master(\"local\")\\\n",
    "    .appName(\"myApp\")\\\n",
    "    .config(\"spark.sql.warehouse.dir\", r\"C:\\Users\\user\\MyStudySpace\\2019-2\\BigData_Spark\\src\")\\\n",
    "    .getOrCreate()"
   ]
  },
  {
   "cell_type": "markdown",
   "metadata": {},
   "source": [
    "## 문제 3"
   ]
  },
  {
   "cell_type": "markdown",
   "metadata": {},
   "source": [
    "1) 5행 출력"
   ]
  },
  {
   "cell_type": "code",
   "execution_count": 6,
   "metadata": {},
   "outputs": [
    {
     "name": "stdout",
     "output_type": "stream",
     "text": [
      "+--------------------+------+\n",
      "|                date| count|\n",
      "+--------------------+------+\n",
      "|2018-01-01 00:00:...|  4950|\n",
      "|2018-01-02 00:00:...|  7136|\n",
      "|2018-01-03 00:00:...|  7156|\n",
      "|2018-01-04 00:00:...|  7102|\n",
      "|2018-01-05 00:00:...|  7705|\n",
      "+--------------------+------+\n",
      "only showing top 5 rows\n",
      "\n"
     ]
    }
   ],
   "source": [
    "df = spark.read.format('com.databricks.spark.csv')\\\n",
    "    .options(header='true', inferschema='true').load('data/seoulBicycleDailyCount_2018_201903.csv')\n",
    "df.show(5)"
   ]
  },
  {
   "cell_type": "markdown",
   "metadata": {},
   "source": [
    "2) 년별 분기별 대여건수 합계"
   ]
  },
  {
   "cell_type": "code",
   "execution_count": 11,
   "metadata": {},
   "outputs": [
    {
     "name": "stdout",
     "output_type": "stream",
     "text": [
      "+--------------------+------+-----+-------+----+---+\n",
      "|                date| count|month|quarter|year|day|\n",
      "+--------------------+------+-----+-------+----+---+\n",
      "|2018-01-01 00:00:...|  4950|   01|     Q1|2018| 01|\n",
      "|2018-01-02 00:00:...|  7136|   01|     Q1|2018| 02|\n",
      "|2018-01-03 00:00:...|  7156|   01|     Q1|2018| 03|\n",
      "|2018-01-04 00:00:...|  7102|   01|     Q1|2018| 04|\n",
      "|2018-01-05 00:00:...|  7705|   01|     Q1|2018| 05|\n",
      "|2018-01-06 00:00:...|  5681|   01|     Q1|2018| 06|\n",
      "|2018-01-07 00:00:...|  5220|   01|     Q1|2018| 07|\n",
      "|2018-01-08 00:00:...|  6309|   01|     Q1|2018| 08|\n",
      "|2018-01-09 00:00:...|  5988|   01|     Q1|2018| 09|\n",
      "|2018-01-10 00:00:...|  4476|   01|     Q1|2018| 10|\n",
      "|2018-01-11 00:00:...|  4337|   01|     Q1|2018| 11|\n",
      "|2018-01-12 00:00:...|  4401|   01|     Q1|2018| 12|\n",
      "|2018-01-13 00:00:...|  3756|   01|     Q1|2018| 13|\n",
      "|2018-01-14 00:00:...|  4675|   01|     Q1|2018| 14|\n",
      "|2018-01-15 00:00:...|  6993|   01|     Q1|2018| 15|\n",
      "|2018-01-16 00:00:...|  7421|   01|     Q1|2018| 16|\n",
      "|2018-01-17 00:00:...|  6990|   01|     Q1|2018| 17|\n",
      "|2018-01-18 00:00:...|  7054|   01|     Q1|2018| 18|\n",
      "|2018-01-19 00:00:...|  8329|   01|     Q1|2018| 19|\n",
      "|2018-01-20 00:00:...|  6148|   01|     Q1|2018| 20|\n",
      "+--------------------+------+-----+-------+----+---+\n",
      "only showing top 20 rows\n",
      "\n"
     ]
    }
   ],
   "source": [
    "from pyspark.sql.functions import udf\n",
    "from pyspark.sql.types import StringType\n",
    "\n",
    "df=df\\\n",
    "    .withColumn(\"year\",df.date.substr(1, 4))\\\n",
    "    .withColumn(\"month\",df.date.substr(6, 2))\\\n",
    "    .withColumn(\"day\",df.date.substr(9, 2))\n",
    "# df.printSchema()\n",
    "df.show()"
   ]
  },
  {
   "cell_type": "code",
   "execution_count": 12,
   "metadata": {},
   "outputs": [],
   "source": [
    "import pyspark.sql.functions as F\n",
    "df=df\\\n",
    "    .withColumn(\"Month\",F.month('date'))"
   ]
  },
  {
   "cell_type": "code",
   "execution_count": 13,
   "metadata": {},
   "outputs": [],
   "source": [
    "# 년별 분기별 대여건수 합계 정답\n",
    "from pyspark.sql.functions import udf\n",
    "from pyspark.sql.types import StringType\n",
    "def classifyQuarter(s):\n",
    "    q=\"\"\n",
    "    if 1<=s and s< 4:\n",
    "        q=\"Q1\"\n",
    "    elif 4<=s and s<7:\n",
    "        q=\"Q2\"\n",
    "    elif 7<=s and s<10:\n",
    "        q=\"Q3\"\n",
    "    elif 10<=s and s<=12:\n",
    "        q=\"Q4\"\n",
    "    else:\n",
    "        q=\"no\"\n",
    "    return q\n",
    "\n",
    "quarter_udf = udf(classifyQuarter, StringType())"
   ]
  },
  {
   "cell_type": "code",
   "execution_count": 14,
   "metadata": {},
   "outputs": [
    {
     "name": "stdout",
     "output_type": "stream",
     "text": [
      "+----+-------+-------+-------+-------+\n",
      "|year|     Q1|     Q2|     Q3|     Q4|\n",
      "+----+-------+-------+-------+-------+\n",
      "|2019|1871935|   null|   null|   null|\n",
      "|2018| 795769|2860617|3585513|2882975|\n",
      "+----+-------+-------+-------+-------+\n",
      "\n"
     ]
    }
   ],
   "source": [
    "df=df.withColumn('quarter', quarter_udf(df.Month))\n",
    "# df.printSchema()\n",
    "df.groupBy('year').pivot('quarter').agg({\" count\":\"sum\"}).show()"
   ]
  },
  {
   "cell_type": "markdown",
   "metadata": {},
   "source": [
    "3) 월별 합계 그래프 그리기"
   ]
  },
  {
   "cell_type": "code",
   "execution_count": 15,
   "metadata": {},
   "outputs": [],
   "source": [
    "# 정답\n",
    "sumMonthly = df.groupBy('year')\\\n",
    "    .pivot('Month')\\\n",
    "    .agg({\" count\":\"sum\"})"
   ]
  },
  {
   "cell_type": "code",
   "execution_count": 16,
   "metadata": {},
   "outputs": [
    {
     "data": {
      "text/html": [
       "<div>\n",
       "<style scoped>\n",
       "    .dataframe tbody tr th:only-of-type {\n",
       "        vertical-align: middle;\n",
       "    }\n",
       "\n",
       "    .dataframe tbody tr th {\n",
       "        vertical-align: top;\n",
       "    }\n",
       "\n",
       "    .dataframe thead th {\n",
       "        text-align: right;\n",
       "    }\n",
       "</style>\n",
       "<table border=\"1\" class=\"dataframe\">\n",
       "  <thead>\n",
       "    <tr style=\"text-align: right;\">\n",
       "      <th></th>\n",
       "      <th>year</th>\n",
       "      <th>1</th>\n",
       "      <th>2</th>\n",
       "      <th>3</th>\n",
       "      <th>4</th>\n",
       "      <th>5</th>\n",
       "      <th>6</th>\n",
       "      <th>7</th>\n",
       "      <th>8</th>\n",
       "      <th>9</th>\n",
       "      <th>10</th>\n",
       "      <th>11</th>\n",
       "      <th>12</th>\n",
       "    </tr>\n",
       "  </thead>\n",
       "  <tbody>\n",
       "    <tr>\n",
       "      <th>0</th>\n",
       "      <td>2019</td>\n",
       "      <td>495573</td>\n",
       "      <td>471543</td>\n",
       "      <td>904819</td>\n",
       "      <td>NaN</td>\n",
       "      <td>NaN</td>\n",
       "      <td>NaN</td>\n",
       "      <td>NaN</td>\n",
       "      <td>NaN</td>\n",
       "      <td>NaN</td>\n",
       "      <td>NaN</td>\n",
       "      <td>NaN</td>\n",
       "      <td>NaN</td>\n",
       "    </tr>\n",
       "    <tr>\n",
       "      <th>1</th>\n",
       "      <td>2018</td>\n",
       "      <td>164367</td>\n",
       "      <td>168741</td>\n",
       "      <td>462661</td>\n",
       "      <td>687885.0</td>\n",
       "      <td>965609.0</td>\n",
       "      <td>1207123.0</td>\n",
       "      <td>1100015.0</td>\n",
       "      <td>1037505.0</td>\n",
       "      <td>1447993.0</td>\n",
       "      <td>1420621.0</td>\n",
       "      <td>961532.0</td>\n",
       "      <td>500822.0</td>\n",
       "    </tr>\n",
       "  </tbody>\n",
       "</table>\n",
       "</div>"
      ],
      "text/plain": [
       "   year       1       2       3         4         5          6          7  \\\n",
       "0  2019  495573  471543  904819       NaN       NaN        NaN        NaN   \n",
       "1  2018  164367  168741  462661  687885.0  965609.0  1207123.0  1100015.0   \n",
       "\n",
       "           8          9         10        11        12  \n",
       "0        NaN        NaN        NaN       NaN       NaN  \n",
       "1  1037505.0  1447993.0  1420621.0  961532.0  500822.0  "
      ]
     },
     "execution_count": 16,
     "metadata": {},
     "output_type": "execute_result"
    }
   ],
   "source": [
    "pdf = sumMonthly.toPandas()\n",
    "pdf.head()"
   ]
  },
  {
   "cell_type": "code",
   "execution_count": 18,
   "metadata": {},
   "outputs": [
    {
     "data": {
      "text/plain": [
       "<matplotlib.axes._subplots.AxesSubplot at 0xafc8710>"
      ]
     },
     "execution_count": 18,
     "metadata": {},
     "output_type": "execute_result"
    },
    {
     "data": {
      "image/png": "[encoded data removed]",
      "text/plain": [
       "<Figure size 432x288 with 1 Axes>"
      ]
     },
     "metadata": {
      "needs_background": "light"
     },
     "output_type": "display_data"
    }
   ],
   "source": [
    "my=pdf.drop('year',1).transpose()\n",
    "my.plot(kind='line')"
   ]
  },
  {
   "cell_type": "markdown",
   "metadata": {},
   "source": [
    "## RDD 훈련데이터 만들기"
   ]
  },
  {
   "cell_type": "code",
   "execution_count": 19,
   "metadata": {},
   "outputs": [],
   "source": [
    "import os\n",
    "\n",
    "try:\n",
    "    _fp=os.path.join(os.environ[\"SPARK_HOME\"],\\\n",
    "        'data','mllib','sample_svm_data.txt')\n",
    "except:\n",
    "    print(\"An exception occurred\")"
   ]
  },
  {
   "cell_type": "code",
   "execution_count": 20,
   "metadata": {},
   "outputs": [],
   "source": [
    "_f=open(_fp,'r')\n",
    "_lines=_f.readlines()\n",
    "_f.close()"
   ]
  },
  {
   "cell_type": "code",
   "execution_count": 21,
   "metadata": {},
   "outputs": [
    {
     "name": "stdout",
     "output_type": "stream",
     "text": [
      "1 0 2.52078447201548 0 0 0 2.004684436494304 2.000347299268466 0 2.228387042742021 2.228387042742023 0 0 0 0 0 0\n",
      "\n"
     ]
    }
   ],
   "source": [
    "print _lines[0]"
   ]
  },
  {
   "cell_type": "markdown",
   "metadata": {},
   "source": [
    "### RDD 생성"
   ]
  },
  {
   "cell_type": "code",
   "execution_count": 23,
   "metadata": {},
   "outputs": [],
   "source": [
    "_rdd=spark.sparkContext.textFile(_fp)\\\n",
    "    .map(lambda line: [float(x) for x in line.split(' ')])"
   ]
  },
  {
   "cell_type": "code",
   "execution_count": 24,
   "metadata": {},
   "outputs": [
    {
     "data": {
      "text/plain": [
       "[1.0,\n",
       " 0.0,\n",
       " 2.52078447201548,\n",
       " 0.0,\n",
       " 0.0,\n",
       " 0.0,\n",
       " 2.004684436494304,\n",
       " 2.000347299268466,\n",
       " 0.0,\n",
       " 2.228387042742021,\n",
       " 2.228387042742023,\n",
       " 0.0,\n",
       " 0.0,\n",
       " 0.0,\n",
       " 0.0,\n",
       " 0.0,\n",
       " 0.0]"
      ]
     },
     "execution_count": 24,
     "metadata": {},
     "output_type": "execute_result"
    }
   ],
   "source": [
    "_rdd.take(2)[0]"
   ]
  },
  {
   "cell_type": "markdown",
   "metadata": {},
   "source": [
    "### LabeledPoint 생성¶\n"
   ]
  },
  {
   "cell_type": "code",
   "execution_count": 25,
   "metadata": {},
   "outputs": [],
   "source": [
    "from pyspark.mllib.regression import LabeledPoint\n",
    "\n",
    "_trainRdd0=_rdd.map(lambda line:LabeledPoint(line[0], line[1:]))"
   ]
  },
  {
   "cell_type": "code",
   "execution_count": 28,
   "metadata": {},
   "outputs": [
    {
     "data": {
      "text/plain": [
       "[LabeledPoint(1.0, [0.0,2.52078447201548,0.0,0.0,0.0,2.004684436494304,2.000347299268466,0.0,2.228387042742021,2.228387042742023,0.0,0.0,0.0,0.0,0.0,0.0]),\n",
       " LabeledPoint(0.0, [2.857738033247042,0.0,0.0,2.619965104088255,0.0,2.004684436494304,2.000347299268466,0.0,2.228387042742021,2.228387042742023,0.0,0.0,0.0,0.0,0.0,0.0]),\n",
       " LabeledPoint(0.0, [2.857738033247042,0.0,2.061393766919624,0.0,0.0,2.004684436494304,0.0,0.0,2.228387042742021,2.228387042742023,0.0,0.0,0.0,0.0,0.0,0.0]),\n",
       " LabeledPoint(1.0, [0.0,0.0,2.061393766919624,2.619965104088255,0.0,2.004684436494304,2.000347299268466,0.0,0.0,0.0,0.0,2.055002875864414,0.0,0.0,0.0,0.0]),\n",
       " LabeledPoint(1.0, [2.857738033247042,0.0,2.061393766919624,2.619965104088255,0.0,2.004684436494304,0.0,0.0,0.0,0.0,0.0,2.055002875864414,0.0,0.0,0.0,0.0])]"
      ]
     },
     "execution_count": 28,
     "metadata": {},
     "output_type": "execute_result"
    }
   ],
   "source": [
    "_trainRdd0.take(5)"
   ]
  }
 ],
 "metadata": {
  "kernelspec": {
   "display_name": "Python 2",
   "language": "python",
   "name": "python2"
  },
  "language_info": {
   "codemirror_mode": {
    "name": "ipython",
    "version": 2
   },
   "file_extension": ".py",
   "mimetype": "text/x-python",
   "name": "python",
   "nbconvert_exporter": "python",
   "pygments_lexer": "ipython2",
   "version": "2.7.16"
  }
 },
 "nbformat": 4,
 "nbformat_minor": 2
}
