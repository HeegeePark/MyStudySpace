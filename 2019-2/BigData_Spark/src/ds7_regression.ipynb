{
 "cells": [
  {
   "cell_type": "code",
   "execution_count": 2,
   "metadata": {},
   "outputs": [],
   "source": [
    "import os\n",
    "import sys\n",
    "\n",
    "#home=os.path.expanduser(\"~\") # HOME이 설정되어 있지 않으면 expanduser('~')를 사용한다.\n",
    "#osn.environ[\"PYSPARK_PYTHON\"] = \"/usr/bin/python\"\n",
    "os.environ[\"SPARK_HOME\"]=os.path.join(os.path.expanduser(\"~\"),r\"C:\\Users\\user\\spark-2.0.0-bin-hadoop2.7\\spark-2.0.0-bin-hadoop2.7\")\n",
    "os.environ[\"PYLIB\"]=os.path.join(os.environ[\"SPARK_HOME\"],'python','lib')\n",
    "sys.path.insert(0,os.path.join(os.environ[\"PYLIB\"],'py4j-0.10.1-src.zip'))\n",
    "sys.path.insert(0,os.path.join(os.environ[\"PYLIB\"],'pyspark.zip'))"
   ]
  },
  {
   "cell_type": "code",
   "execution_count": 3,
   "metadata": {},
   "outputs": [],
   "source": [
    "import pyspark\n",
    "spark = pyspark.sql.SparkSession.builder\\\n",
    "    .master(\"local\")\\\n",
    "    .appName(\"myApp\")\\\n",
    "    .config(\"spark.sql.warehouse.dir\", r\"C:\\Users\\user\\MyStudySpace\\2019-2\\BigData_Spark\\src\")\\\n",
    "    .getOrCreate()"
   ]
  },
  {
   "cell_type": "markdown",
   "metadata": {},
   "source": [
    "## OLS\n",
    "회귀모델은 OLS(ordinary least squares)를 최소화하여 도출\n",
    "- OLS는 y실제 - y^예측 차이의 제곱을 합계낸 값\n",
    "- OLS (Ordinary Least Square)를 최소화 사용하여 회귀식을 품."
   ]
  },
  {
   "cell_type": "code",
   "execution_count": 1,
   "metadata": {},
   "outputs": [],
   "source": [
    "# 데이터 생성\n",
    "import numpy as np\n",
    "x=np.array([1,2,3,4])\n",
    "y=np.array([6,5,7,10])"
   ]
  },
  {
   "cell_type": "code",
   "execution_count": 4,
   "metadata": {},
   "outputs": [
    {
     "data": {
      "text/plain": [
       "<matplotlib.collections.PathCollection at 0x90afd68>"
      ]
     },
     "execution_count": 4,
     "metadata": {},
     "output_type": "execute_result"
    },
    {
     "data": {
      "image/png": "[encoded data removed]",
      "text/plain": [
       "<Figure size 432x288 with 1 Axes>"
      ]
     },
     "metadata": {
      "needs_background": "light"
     },
     "output_type": "display_data"
    }
   ],
   "source": [
    "# 그래프\n",
    "# 111 = 1행 1열의 첫번째\n",
    "%matplotlib inline\n",
    "import matplotlib.pyplot as plt\n",
    "\n",
    "fig=plt.figure()\n",
    "ax=fig.add_subplot(111)\n",
    "ax.scatter(x,y)"
   ]
  },
  {
   "cell_type": "markdown",
   "metadata": {},
   "source": [
    "## 선형 회귀식 풀기\n",
    "6=β0+β1×1\n",
    "\n",
    "5=β0+β1×2\n",
    "\n",
    "7=β0+β1×3\n",
    "\n",
    "10=β0+β1×4"
   ]
  },
  {
   "cell_type": "markdown",
   "metadata": {},
   "source": [
    "실제와 예측의 차이인 오류 (y−yhat)2를 최소화하는 베타 값을 구해보자.\n",
    "\n",
    "(6−(β0+β1×1))2\n",
    "\n",
    "(5−(β0+β1×2))2\n",
    "\n",
    "(7−(β0+β1×3))2\n",
    "\n",
    "(10−(β0+β1×4))2\n",
    "\n",
    "위 식을 모두 더해서 총오류를 구하면:\n",
    "\n",
    "f=210+4β20+30β21+20β0β1−56β0−154β1\n",
    "위를 편미분하면:\n",
    "\n",
    "∂f∂β0=8β0+20β1−56\n",
    "∂f∂β1=20β0+60β1−154\n",
    "이를 풀면:\n",
    "\n",
    "β0=3.5\n",
    "β1=1.4"
   ]
  },
  {
   "cell_type": "code",
   "execution_count": 5,
   "metadata": {},
   "outputs": [
    {
     "name": "stdout",
     "output_type": "stream",
     "text": [
      "[4.9 6.3 7.7 9.1]\n"
     ]
    }
   ],
   "source": [
    "yhat=x*1.4+3.5\n",
    "print(yhat)"
   ]
  },
  {
   "cell_type": "code",
   "execution_count": 6,
   "metadata": {},
   "outputs": [
    {
     "data": {
      "text/plain": [
       "array([-1.1,  1.3,  0.7, -0.9])"
      ]
     },
     "execution_count": 6,
     "metadata": {},
     "output_type": "execute_result"
    }
   ],
   "source": [
    "yhat-y"
   ]
  },
  {
   "cell_type": "code",
   "execution_count": 7,
   "metadata": {},
   "outputs": [
    {
     "data": {
      "text/plain": [
       "4.199999999999998"
      ]
     },
     "execution_count": 7,
     "metadata": {},
     "output_type": "execute_result"
    }
   ],
   "source": [
    "# f\n",
    "np.sum(np.power(yhat-y,2))"
   ]
  },
  {
   "cell_type": "markdown",
   "metadata": {},
   "source": [
    "## 파이썬으로 미분"
   ]
  },
  {
   "cell_type": "code",
   "execution_count": 9,
   "metadata": {},
   "outputs": [],
   "source": [
    "# differentiation\n",
    "import sympy as sp\n",
    "# b0 b1로 변수 설정 y=b1x + b0\n",
    "b0,b1=sp.symbols('b0 b1')"
   ]
  },
  {
   "cell_type": "code",
   "execution_count": 10,
   "metadata": {},
   "outputs": [
    {
     "name": "stdout",
     "output_type": "stream",
     "text": [
      "('fdiff with b0: ', 8*b0 + 20*b1 - 56, 'fdiff with b1: ', 20*b0 + 60*b1 - 154)\n"
     ]
    }
   ],
   "source": [
    "# diff(f,b0)는 f함수를 b0에 대해서 미분하는 명령어\n",
    "# diff(f,b1)는 f함수를 b1에 대해서 미분\n",
    "f=210 + 4*b0**2 + 30*b1**2 + 20*b0*b1 - 56*b0 - 154*b1\n",
    "fdiff_b0=sp.diff(f,b0)\n",
    "fdiff_b1=sp.diff(f,b1)\n",
    "print(\"fdiff with b0: \",fdiff_b0,\"fdiff with b1: \",fdiff_b1)"
   ]
  },
  {
   "cell_type": "code",
   "execution_count": 12,
   "metadata": {},
   "outputs": [
    {
     "name": "stdout",
     "output_type": "stream",
     "text": [
      "exp={b0: 7/2, b1: 7/5}\n"
     ]
    }
   ],
   "source": [
    "# solve()로 해 구하기\n",
    "exp=sp.solve([fdiff_b0, fdiff_b1],[b0,b1])\n",
    "print(\"exp={0}\".format(exp))"
   ]
  },
  {
   "attachments": {
    "image.png": {
     "image/png": "[encoded data removed]"
    }
   },
   "cell_type": "markdown",
   "metadata": {},
   "source": [
    "## R^2\n",
    "종속변수 dependent variable의 분산을 독립변수 independent variable(s)로 얼마나 예측할 수 있는지를 나타냄.\n",
    "- TSS (Total Sum of Squared Errors ) = SSE (Sum of squared errors) + SSR (Residual Sum of squared errors)\n",
    "    ![image.png](attachment:image.png)"
   ]
  },
  {
   "cell_type": "code",
   "execution_count": 13,
   "metadata": {},
   "outputs": [],
   "source": [
    "import numpy as np\n",
    "x=np.arange(0,9)\n",
    "y=np.array([19, 20, 20.5, 21.5, 22, 23, 23, 25.5, 24])"
   ]
  },
  {
   "cell_type": "code",
   "execution_count": 14,
   "metadata": {},
   "outputs": [
    {
     "name": "stdout",
     "output_type": "stream",
     "text": [
      "[[0. 1. 2. 3. 4. 5. 6. 7. 8.]\n",
      " [1. 1. 1. 1. 1. 1. 1. 1. 1.]]\n"
     ]
    }
   ],
   "source": [
    "# 1을 넣어서 절편을 구헤주기\n",
    "A=np.array([x,np.ones(9)])\n",
    "print A"
   ]
  },
  {
   "cell_type": "code",
   "execution_count": 15,
   "metadata": {},
   "outputs": [
    {
     "name": "stdout",
     "output_type": "stream",
     "text": [
      "0.7166666666666671 19.188888888888894\n"
     ]
    },
    {
     "name": "stderr",
     "output_type": "stream",
     "text": [
      "C:\\Users\\user\\Anaconda2\\lib\\site-packages\\ipykernel_launcher.py:2: FutureWarning: `rcond` parameter will change to the default of machine precision times ``max(M, N)`` where M and N are the input matrix dimensions.\n",
      "To use the future default and silence this warning we advise to pass `rcond=None`, to keep using the old, explicitly pass `rcond=-1`.\n",
      "  \n"
     ]
    }
   ],
   "source": [
    "# T = 전치행렬\n",
    "w0,w1=np.linalg.lstsq(A.T,y)[0]\n",
    "print w0,w1"
   ]
  },
  {
   "cell_type": "code",
   "execution_count": 16,
   "metadata": {},
   "outputs": [
    {
     "name": "stdout",
     "output_type": "stream",
     "text": [
      "[19.18888889 19.90555556 20.62222222 21.33888889 22.05555556 22.77222222\n",
      " 23.48888889 24.20555556 24.92222222]\n"
     ]
    }
   ],
   "source": [
    "# 예측값 구하기\n",
    "yhat=w0*x+w1\n",
    "print yhat"
   ]
  },
  {
   "cell_type": "code",
   "execution_count": 24,
   "metadata": {},
   "outputs": [
    {
     "data": {
      "image/png": "[encoded data removed]",
      "text/plain": [
       "<Figure size 432x288 with 1 Axes>"
      ]
     },
     "metadata": {
      "needs_background": "light"
     },
     "output_type": "display_data"
    }
   ],
   "source": [
    "%matplotlib inline\n",
    "import matplotlib.pyplot as plt\n",
    "plt.plot(x,yhat,'r-',x,y,'b+')\n",
    "plt.show()"
   ]
  },
  {
   "cell_type": "code",
   "execution_count": 25,
   "metadata": {},
   "outputs": [
    {
     "name": "stdout",
     "output_type": "stream",
     "text": [
      "0.9138385502471169\n"
     ]
    }
   ],
   "source": [
    "# R squared\n",
    "SSR = sum((y-yhat)**2)\n",
    "TSS = sum((y-np.mean(y))**2)\n",
    "r_squared = 1 - (float(SSR))/TSS\n",
    "print r_squared"
   ]
  },
  {
   "attachments": {
    "image.png": {
     "image/png": "[encoded data removed]"
    }
   },
   "cell_type": "markdown",
   "metadata": {},
   "source": [
    "adjusted R-squared는 독립변수의 개수에 따라 과도한 R2를 수정한 값\n",
    "    ![image.png](attachment:image.png)\n",
    "    - n = 데이터 개수\n",
    "    - k = 독립변수 개수"
   ]
  },
  {
   "cell_type": "code",
   "execution_count": 26,
   "metadata": {},
   "outputs": [
    {
     "name": "stdout",
     "output_type": "stream",
     "text": [
      "0.8851180669961559\n"
     ]
    }
   ],
   "source": [
    "adjusted_r_squared = 1 - (1-r_squared)*(len(y)-1)/(len(y)-A.shape[0]-1)   # 0.9015 without -1\n",
    "print adjusted_r_squared"
   ]
  },
  {
   "cell_type": "code",
   "execution_count": 32,
   "metadata": {},
   "outputs": [
    {
     "name": "stdout",
     "output_type": "stream",
     "text": [
      "                            OLS Regression Results                            \n",
      "==============================================================================\n",
      "Dep. Variable:                      y   R-squared:                       0.914\n",
      "Model:                            OLS   Adj. R-squared:                  0.902\n",
      "Method:                 Least Squares   F-statistic:                     74.24\n",
      "Date:                Tue, 12 Nov 2019   Prob (F-statistic):           5.66e-05\n",
      "Time:                        17:27:33   Log-Likelihood:                -7.6827\n",
      "No. Observations:                   9   AIC:                             19.37\n",
      "Df Residuals:                       7   BIC:                             19.76\n",
      "Df Model:                           1                                         \n",
      "Covariance Type:            nonrobust                                         \n",
      "==============================================================================\n",
      "                 coef    std err          t      P>|t|      [0.025      0.975]\n",
      "------------------------------------------------------------------------------\n",
      "x1             0.7167      0.083      8.616      0.000       0.520       0.913\n",
      "const         19.1889      0.396     48.458      0.000      18.253      20.125\n",
      "==============================================================================\n",
      "Omnibus:                        4.624   Durbin-Watson:                   3.078\n",
      "Prob(Omnibus):                  0.099   Jarque-Bera (JB):                1.154\n",
      "Skew:                           0.773   Prob(JB):                        0.561\n",
      "Kurtosis:                       3.830   Cond. No.                         9.06\n",
      "==============================================================================\n",
      "\n",
      "Warnings:\n",
      "[1] Standard Errors assume that the covariance matrix of the errors is correctly specified.\n",
      "0.913838550247117 0.9015297717109909\n"
     ]
    },
    {
     "name": "stderr",
     "output_type": "stream",
     "text": [
      "C:\\Users\\user\\Anaconda2\\lib\\site-packages\\scipy\\stats\\stats.py:1416: UserWarning: kurtosistest only valid for n>=20 ... continuing anyway, n=9\n",
      "  \"anyway, n=%i\" % int(n))\n"
     ]
    }
   ],
   "source": [
    "import statsmodels.api as sm\n",
    "result = sm.OLS(y,A.T).fit()\n",
    "print result.summary()\n",
    "print result.rsquared, result.rsquared_adj\n",
    "# 0.877643371323 0.863248473832"
   ]
  },
  {
   "cell_type": "markdown",
   "metadata": {},
   "source": [
    "## matrix inverse method\n",
    "회귀분석을 역행렬을 이용하여 풀기"
   ]
  },
  {
   "attachments": {
    "image.png": {
     "image/png": "[encoded data removed]"
    }
   },
   "cell_type": "markdown",
   "metadata": {},
   "source": [
    "![image.png](attachment:image.png)"
   ]
  },
  {
   "cell_type": "code",
   "execution_count": 34,
   "metadata": {},
   "outputs": [],
   "source": [
    "import numpy as np\n",
    "\n",
    "y=[8,9]\n",
    "x=[[2,-4],[3,6]]"
   ]
  },
  {
   "cell_type": "code",
   "execution_count": 35,
   "metadata": {},
   "outputs": [
    {
     "name": "stdout",
     "output_type": "stream",
     "text": [
      "x:  [[2, -4], [3, 6]] y:  [8, 9]\n"
     ]
    }
   ],
   "source": [
    "print \"x: \", x, \"y: \", y"
   ]
  },
  {
   "cell_type": "code",
   "execution_count": 37,
   "metadata": {},
   "outputs": [
    {
     "name": "stdout",
     "output_type": "stream",
     "text": [
      "x inv: \n",
      "[[ 0.25  0.17]\n",
      " [-0.12  0.08]]\n"
     ]
    }
   ],
   "source": [
    "# set_printoptions(precision=2, suppress=True)는 출력 자릿수를 2자리로 제한 가능\n",
    "np.set_printoptions(precision=2, suppress=True)\n",
    "# inv(x) = x의 역행렬\n",
    "xT = np.linalg.inv(x) \n",
    "print \"x inv: \\n\", xT "
   ]
  },
  {
   "cell_type": "markdown",
   "metadata": {},
   "source": [
    "### identity matrix\n",
    "x*xT는 1, 즉 identity matrix"
   ]
  },
  {
   "cell_type": "code",
   "execution_count": 40,
   "metadata": {},
   "outputs": [
    {
     "name": "stdout",
     "output_type": "stream",
     "text": [
      "identity matrix 'x * xT': \n",
      "[[1. 0.]\n",
      " [0. 1.]]\n"
     ]
    }
   ],
   "source": [
    "# print np.eye(2)로도 대체 가능\n",
    "print \"identity matrix 'x * xT': \\n\", np.dot(x,xT)"
   ]
  },
  {
   "attachments": {
    "image.png": {
     "image/png": "[encoded data removed]"
    }
   },
   "cell_type": "markdown",
   "metadata": {},
   "source": [
    "## β\n",
    "![image.png](attachment:image.png)"
   ]
  },
  {
   "cell_type": "markdown",
   "metadata": {},
   "source": [
    "### inverse 계산"
   ]
  },
  {
   "cell_type": "code",
   "execution_count": 42,
   "metadata": {},
   "outputs": [
    {
     "name": "stdout",
     "output_type": "stream",
     "text": [
      "v=[[2 3]\n",
      " [4 5]]\n",
      "v.I=[[-2.5  1.5]\n",
      " [ 2.  -1. ]]\n"
     ]
    }
   ],
   "source": [
    "# matrix inverse\n",
    "v=np.array([[2,3],[4,5]])\n",
    "vI=np.linalg.inv(v)\n",
    "print \"v={0}\\nv.I={1}\".format(v,vI) #([[-2.5, 1.5], [ 2. , -1. ]])"
   ]
  },
  {
   "cell_type": "code",
   "execution_count": 43,
   "metadata": {},
   "outputs": [
    {
     "name": "stdout",
     "output_type": "stream",
     "text": [
      "[-2.5  1.5  2.  -1. ]\n"
     ]
    }
   ],
   "source": [
    "left=1./(2*5-3*4)\n",
    "right=np.array([5,-3,-4,2])\n",
    "print left*right #array([-2.5,  1.5,  2. , -1. ])"
   ]
  },
  {
   "cell_type": "markdown",
   "metadata": {},
   "source": [
    "### inverse로 β 계산\n",
    "matrix inverse method를 풀어보자. numpy array로 행렬을 선언하고, 다음 식을 np.dot(), np.linalg.inv() 함수를 이용해서 풀면 x1, x2를 구할 수 있음."
   ]
  },
  {
   "cell_type": "code",
   "execution_count": 44,
   "metadata": {},
   "outputs": [],
   "source": [
    "import numpy as np\n",
    "\n",
    "x=np.array([[2,-4],[3,6]])\n",
    "y=np.array([8,9])"
   ]
  },
  {
   "cell_type": "code",
   "execution_count": 45,
   "metadata": {},
   "outputs": [],
   "source": [
    "xI=np.linalg.inv(x)"
   ]
  },
  {
   "cell_type": "code",
   "execution_count": 46,
   "metadata": {},
   "outputs": [
    {
     "name": "stdout",
     "output_type": "stream",
     "text": [
      "(3.5, -0.25)\n"
     ]
    }
   ],
   "source": [
    "w1,w2=np.dot(xI,y)\n",
    "print(w1,w2)"
   ]
  },
  {
   "cell_type": "code",
   "execution_count": 47,
   "metadata": {},
   "outputs": [
    {
     "name": "stdout",
     "output_type": "stream",
     "text": [
      "8.0\n",
      "9.0\n"
     ]
    }
   ],
   "source": [
    "print 2*w1+(-4)*w2\n",
    "print 3*w1+6*w2"
   ]
  },
  {
   "cell_type": "code",
   "execution_count": 48,
   "metadata": {},
   "outputs": [
    {
     "name": "stdout",
     "output_type": "stream",
     "text": [
      "[ 3.5  -0.25]\n"
     ]
    }
   ],
   "source": [
    "print np.linalg.solve(x,y)"
   ]
  },
  {
   "cell_type": "code",
   "execution_count": null,
   "metadata": {},
   "outputs": [],
   "source": []
  }
 ],
 "metadata": {
  "kernelspec": {
   "display_name": "Python 2",
   "language": "python",
   "name": "python2"
  },
  "language_info": {
   "codemirror_mode": {
    "name": "ipython",
    "version": 2
   },
   "file_extension": ".py",
   "mimetype": "text/x-python",
   "name": "python",
   "nbconvert_exporter": "python",
   "pygments_lexer": "ipython2",
   "version": "2.7.16"
  }
 },
 "nbformat": 4,
 "nbformat_minor": 2
}
